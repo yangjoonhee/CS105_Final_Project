{
 "cells": [
  {
   "cell_type": "code",
   "execution_count": null,
   "metadata": {
    "id": "Lv9MhogN50nu"
   },
   "outputs": [],
   "source": [
    "import numpy as np\n",
    "import pandas as pd\n",
    "import matplotlib.pyplot as plt\n",
    "import seaborn as sns\n",
    "import string\n",
    "import re\n",
    "import nltk\n",
    "\n",
    "from tqdm import trange\n",
    "from nltk import tokenize\n",
    "from nltk.corpus import stopwords\n",
    "from nltk.stem import WordNetLemmatizer\n",
    "from nltk.probability import FreqDist\n",
    "from collections import Counter\n",
    "from sklearn.feature_extraction.text import CountVectorizer"
   ]
  },
  {
   "cell_type": "code",
   "execution_count": null,
   "metadata": {
    "colab": {
     "base_uri": "https://localhost:8080/"
    },
    "id": "vuV_VAuf9AjV",
    "outputId": "c9516c45-3f37-425e-e6bc-66aa37342cf5"
   },
   "outputs": [
    {
     "name": "stderr",
     "output_type": "stream",
     "text": [
      "[nltk_data] Downloading package stopwords to /root/nltk_data...\n",
      "[nltk_data]   Package stopwords is already up-to-date!\n"
     ]
    },
    {
     "data": {
      "text/plain": [
       "True"
      ]
     },
     "execution_count": 92,
     "metadata": {},
     "output_type": "execute_result"
    }
   ],
   "source": [
    "import nltk\n",
    "nltk.download('stopwords')"
   ]
  },
  {
   "cell_type": "code",
   "execution_count": null,
   "metadata": {
    "id": "ELc2Un_s547T"
   },
   "outputs": [],
   "source": [
    "import warnings\n",
    "warnings.filterwarnings('ignore')\n",
    "nltk.download('omw-1.4', quiet=True)\n",
    "sns.set_style('darkgrid')\n",
    "plt.rcParams['figure.figsize'] = (17,7)\n",
    "plt.rcParams['font.size'] = 18"
   ]
  },
  {
   "cell_type": "code",
   "execution_count": null,
   "metadata": {
    "colab": {
     "base_uri": "https://localhost:8080/",
     "height": 728
    },
    "id": "M9hnK7oR6B_o",
    "outputId": "823d2d6a-bc54-4220-e5e8-dc4f6528c2bb"
   },
   "outputs": [
    {
     "data": {
      "text/html": [
       "\n",
       "  <div id=\"df-c228c5fc-6ff9-4802-8269-76350b6625c6\" class=\"colab-df-container\">\n",
       "    <div>\n",
       "<style scoped>\n",
       "    .dataframe tbody tr th:only-of-type {\n",
       "        vertical-align: middle;\n",
       "    }\n",
       "\n",
       "    .dataframe tbody tr th {\n",
       "        vertical-align: top;\n",
       "    }\n",
       "\n",
       "    .dataframe thead th {\n",
       "        text-align: right;\n",
       "    }\n",
       "</style>\n",
       "<table border=\"1\" class=\"dataframe\">\n",
       "  <thead>\n",
       "    <tr style=\"text-align: right;\">\n",
       "      <th></th>\n",
       "      <th>Hanu Korean BBQ - 4.8 Stars</th>\n",
       "      <th>Prime K BBQ - 4.8 Stars</th>\n",
       "      <th>King Chang LA - 4.8 Stars</th>\n",
       "      <th>PZK BBQ - 4.7 Stars</th>\n",
       "      <th>Woo Hyang Woo - 4.6 Stars</th>\n",
       "      <th>J BBQ - 3.6 Stars</th>\n",
       "      <th>Castle BBQ - 3.5 Stars</th>\n",
       "      <th>Moodaepo - 3.3 Stars</th>\n",
       "      <th>Bud Namu Korean BBQ - 3.3 Stars</th>\n",
       "      <th>MOON BBQ 2 - 3.0 Stars</th>\n",
       "    </tr>\n",
       "  </thead>\n",
       "  <tbody>\n",
       "    <tr>\n",
       "      <th>0</th>\n",
       "      <td>Such an amazing place, great food, great servi...</td>\n",
       "      <td>If you're a meat enthusiast like me, this Kore...</td>\n",
       "      <td>Best Small Instance Soup ever. They offer vari...</td>\n",
       "      <td>My family was super hungry. Everything was ful...</td>\n",
       "      <td>Got recommended to go there by Alex and it was...</td>\n",
       "      <td>Service is amazing ! I have an autistic child ...</td>\n",
       "      <td>Everything was good, the service, the food, ev...</td>\n",
       "      <td>Great service...  nice atmosphere .. food was ...</td>\n",
       "      <td>Price: 10/10Service: 10/10Staff: Super friendl...</td>\n",
       "      <td>It's been so long since I've been here and it ...</td>\n",
       "    </tr>\n",
       "    <tr>\n",
       "      <th>1</th>\n",
       "      <td>The staff were nice and kind and they cooked f...</td>\n",
       "      <td>Make this your go to KBBQ spot! For the qualit...</td>\n",
       "      <td>Been here twice and it's been great! Service i...</td>\n",
       "      <td>VERY Bad service AND BAD quality meats NEVER c...</td>\n",
       "      <td>Food is amazing, staff is super accommodating,...</td>\n",
       "      <td>The meat quality, service and ambiance are TOP...</td>\n",
       "      <td>I absolutely love this place but... too small!...</td>\n",
       "      <td>Combo A Lunch Special for only $25.99! I'm not...</td>\n",
       "      <td>I used to go to this AYCE KBBQ a lot in colleg...</td>\n",
       "      <td>At here on a Sunday after around 4pm.. it seem...</td>\n",
       "    </tr>\n",
       "    <tr>\n",
       "      <th>2</th>\n",
       "      <td>Best Korean bbq in LA request for Michael Jack...</td>\n",
       "      <td>Prime K BBQ was pretty good. Me and my family ...</td>\n",
       "      <td>This place has great service and plenty of opt...</td>\n",
       "      <td>Service was very fast, we were guided to our s...</td>\n",
       "      <td>I've been to most KBBQ spots in Ktown; from th...</td>\n",
       "      <td>I was a bit skeptical at first. My non Asian f...</td>\n",
       "      <td>Not sure why this place is only 3.5 stars. Abs...</td>\n",
       "      <td>Moodaepo has one of the cheapest AYCE KBBQ opt...</td>\n",
       "      <td>I recently had the pleasure of dining at Bud N...</td>\n",
       "      <td>This is my go to spot for kbbq! The service is...</td>\n",
       "    </tr>\n",
       "    <tr>\n",
       "      <th>3</th>\n",
       "      <td>Had a great lunch with some work friends. Lena...</td>\n",
       "      <td>Affordable, decent quality and great side dish...</td>\n",
       "      <td>This place has AMAZING KBBQ. There is a lot of...</td>\n",
       "      <td>PZK BBQ is a KBBQ spot outside of Koreatown an...</td>\n",
       "      <td>/)/) ( . .) ( づ I really wanted to like this p...</td>\n",
       "      <td>We came on a Sunday and although it says 11AM ...</td>\n",
       "      <td>Came in with my family for a quick lunch. The ...</td>\n",
       "      <td>Got there at 11:30m. Business advertising that...</td>\n",
       "      <td>Hole in the wall, decent place with decent mea...</td>\n",
       "      <td>I'm here at 9:40 PM at the counter ready to or...</td>\n",
       "    </tr>\n",
       "    <tr>\n",
       "      <th>4</th>\n",
       "      <td>What a great find in K-town! Came here for the...</td>\n",
       "      <td>Not AYCE but it's a LOT of food. Our party of ...</td>\n",
       "      <td>Our server Wayne, was really kind and fun. The...</td>\n",
       "      <td>For AYCE the price isn't too bad. I really lik...</td>\n",
       "      <td>Cant BEEF-lieve I had kbbq 3 nights in a row, ...</td>\n",
       "      <td>Good Food and Service... We appreciate everyon...</td>\n",
       "      <td>This place is a solid 4/5! The price is the ch...</td>\n",
       "      <td>Great KBBQ place. Perfect for large parties. I...</td>\n",
       "      <td>This restaurant located in the heart of K-town...</td>\n",
       "      <td>Ol reliable. I choose Set A and that's satisfy...</td>\n",
       "    </tr>\n",
       "    <tr>\n",
       "      <th>5</th>\n",
       "      <td>Hanu was absolutely delicious!!! From someone ...</td>\n",
       "      <td>I came here recently while visiting LA. A frie...</td>\n",
       "      <td>Saturday 5pmParking/Wait: They have a valet-on...</td>\n",
       "      <td>This place is a good little kbbq spot in La . ...</td>\n",
       "      <td>Service was great but their beef bowls are not...</td>\n",
       "      <td>Okay got a surprise birthday party with my bf'...</td>\n",
       "      <td>GREAT prices (one of the most affordable optio...</td>\n",
       "      <td>So I've been coming here for years and the foo...</td>\n",
       "      <td>Bud Namu is a kbbq spot I've been going to for...</td>\n",
       "      <td>Small parking lot but you can valet for $5. Th...</td>\n",
       "    </tr>\n",
       "    <tr>\n",
       "      <th>6</th>\n",
       "      <td>In my opinion, Korean food in Los Angeles is s...</td>\n",
       "      <td>My friend suggested this place to me and my pa...</td>\n",
       "      <td>Seeing a lot of reviews on here from accounts ...</td>\n",
       "      <td>I recently visited PZK BBQ, a late-night Korea...</td>\n",
       "      <td>Woo Hyang Woo is Korean BBQ spot with lunch sp...</td>\n",
       "      <td>Parking was a little inconvenient, but the foo...</td>\n",
       "      <td>Me and my coworkers were initially going to go...</td>\n",
       "      <td>I love coming here for Korean bbq. However the...</td>\n",
       "      <td>Amazing place, amazing food!! The service was ...</td>\n",
       "      <td>This is my go-to spot for cheap kbbq eats. The...</td>\n",
       "    </tr>\n",
       "    <tr>\n",
       "      <th>7</th>\n",
       "      <td>Service:- have a cute robot assistant that bri...</td>\n",
       "      <td>Quality of the meat and good service. Those ar...</td>\n",
       "      <td>If you're looking for an unforgettable Korean ...</td>\n",
       "      <td>This place is such a gem. Easily the best Kore...</td>\n",
       "      <td>High quality meat, not AYCE. Came on a Saturda...</td>\n",
       "      <td>They were really nice and accommodating even t...</td>\n",
       "      <td>Food is amazing! The service was great, very a...</td>\n",
       "      <td>A great option for AYCE KBBQ in LA! This spot ...</td>\n",
       "      <td>Ordered Bud Namu through Uber eats and I wante...</td>\n",
       "      <td>One of the FEW KBBQ opened later at night on S...</td>\n",
       "    </tr>\n",
       "    <tr>\n",
       "      <th>8</th>\n",
       "      <td>Things I love about Hanu:- the pork and beef c...</td>\n",
       "      <td>Great meat, service, and location. Staff was p...</td>\n",
       "      <td>Delicious authentic food,the restaurant is ope...</td>\n",
       "      <td>We ate here over the weekend after a long day ...</td>\n",
       "      <td>This place is like a meat feast for the gods. ...</td>\n",
       "      <td>Great service and good food! The food was very...</td>\n",
       "      <td>Loved it. Friendly staff, atmosphere was amazi...</td>\n",
       "      <td>Let's start with the ambiance. It's okay not t...</td>\n",
       "      <td>I came during the opening hour so I got the be...</td>\n",
       "      <td>This place was great. The meat quality was goo...</td>\n",
       "    </tr>\n",
       "    <tr>\n",
       "      <th>9</th>\n",
       "      <td>Lena was the best server and Hanu had the best...</td>\n",
       "      <td>Gathered here for a good friends birthday and ...</td>\n",
       "      <td>Came here late on a Thursday night, around 11p...</td>\n",
       "      <td>I really wanted to not like this place because...</td>\n",
       "      <td>I'm so used to all you can eat places that at ...</td>\n",
       "      <td>I recently tried J KBBQ, and it's now my new f...</td>\n",
       "      <td>The service was excellent. The food was great ...</td>\n",
       "      <td>Celebrated a graduation here and our server wa...</td>\n",
       "      <td>This is an amazing restaurant. Awesome food, a...</td>\n",
       "      <td>This place has such a lovely salad bar to go w...</td>\n",
       "    </tr>\n",
       "  </tbody>\n",
       "</table>\n",
       "</div>\n",
       "    <div class=\"colab-df-buttons\">\n",
       "\n",
       "  <div class=\"colab-df-container\">\n",
       "    <button class=\"colab-df-convert\" onclick=\"convertToInteractive('df-c228c5fc-6ff9-4802-8269-76350b6625c6')\"\n",
       "            title=\"Convert this dataframe to an interactive table.\"\n",
       "            style=\"display:none;\">\n",
       "\n",
       "  <svg xmlns=\"http://www.w3.org/2000/svg\" height=\"24px\" viewBox=\"0 -960 960 960\">\n",
       "    <path d=\"M120-120v-720h720v720H120Zm60-500h600v-160H180v160Zm220 220h160v-160H400v160Zm0 220h160v-160H400v160ZM180-400h160v-160H180v160Zm440 0h160v-160H620v160ZM180-180h160v-160H180v160Zm440 0h160v-160H620v160Z\"/>\n",
       "  </svg>\n",
       "    </button>\n",
       "\n",
       "  <style>\n",
       "    .colab-df-container {\n",
       "      display:flex;\n",
       "      gap: 12px;\n",
       "    }\n",
       "\n",
       "    .colab-df-convert {\n",
       "      background-color: #E8F0FE;\n",
       "      border: none;\n",
       "      border-radius: 50%;\n",
       "      cursor: pointer;\n",
       "      display: none;\n",
       "      fill: #1967D2;\n",
       "      height: 32px;\n",
       "      padding: 0 0 0 0;\n",
       "      width: 32px;\n",
       "    }\n",
       "\n",
       "    .colab-df-convert:hover {\n",
       "      background-color: #E2EBFA;\n",
       "      box-shadow: 0px 1px 2px rgba(60, 64, 67, 0.3), 0px 1px 3px 1px rgba(60, 64, 67, 0.15);\n",
       "      fill: #174EA6;\n",
       "    }\n",
       "\n",
       "    .colab-df-buttons div {\n",
       "      margin-bottom: 4px;\n",
       "    }\n",
       "\n",
       "    [theme=dark] .colab-df-convert {\n",
       "      background-color: #3B4455;\n",
       "      fill: #D2E3FC;\n",
       "    }\n",
       "\n",
       "    [theme=dark] .colab-df-convert:hover {\n",
       "      background-color: #434B5C;\n",
       "      box-shadow: 0px 1px 3px 1px rgba(0, 0, 0, 0.15);\n",
       "      filter: drop-shadow(0px 1px 2px rgba(0, 0, 0, 0.3));\n",
       "      fill: #FFFFFF;\n",
       "    }\n",
       "  </style>\n",
       "\n",
       "    <script>\n",
       "      const buttonEl =\n",
       "        document.querySelector('#df-c228c5fc-6ff9-4802-8269-76350b6625c6 button.colab-df-convert');\n",
       "      buttonEl.style.display =\n",
       "        google.colab.kernel.accessAllowed ? 'block' : 'none';\n",
       "\n",
       "      async function convertToInteractive(key) {\n",
       "        const element = document.querySelector('#df-c228c5fc-6ff9-4802-8269-76350b6625c6');\n",
       "        const dataTable =\n",
       "          await google.colab.kernel.invokeFunction('convertToInteractive',\n",
       "                                                    [key], {});\n",
       "        if (!dataTable) return;\n",
       "\n",
       "        const docLinkHtml = 'Like what you see? Visit the ' +\n",
       "          '<a target=\"_blank\" href=https://colab.research.google.com/notebooks/data_table.ipynb>data table notebook</a>'\n",
       "          + ' to learn more about interactive tables.';\n",
       "        element.innerHTML = '';\n",
       "        dataTable['output_type'] = 'display_data';\n",
       "        await google.colab.output.renderOutput(dataTable, element);\n",
       "        const docLink = document.createElement('div');\n",
       "        docLink.innerHTML = docLinkHtml;\n",
       "        element.appendChild(docLink);\n",
       "      }\n",
       "    </script>\n",
       "  </div>\n",
       "\n",
       "\n",
       "<div id=\"df-365676ee-fc3d-4f21-8a92-45352c79f123\">\n",
       "  <button class=\"colab-df-quickchart\" onclick=\"quickchart('df-365676ee-fc3d-4f21-8a92-45352c79f123')\"\n",
       "            title=\"Suggest charts\"\n",
       "            style=\"display:none;\">\n",
       "\n",
       "<svg xmlns=\"http://www.w3.org/2000/svg\" height=\"24px\"viewBox=\"0 0 24 24\"\n",
       "     width=\"24px\">\n",
       "    <g>\n",
       "        <path d=\"M19 3H5c-1.1 0-2 .9-2 2v14c0 1.1.9 2 2 2h14c1.1 0 2-.9 2-2V5c0-1.1-.9-2-2-2zM9 17H7v-7h2v7zm4 0h-2V7h2v10zm4 0h-2v-4h2v4z\"/>\n",
       "    </g>\n",
       "</svg>\n",
       "  </button>\n",
       "\n",
       "<style>\n",
       "  .colab-df-quickchart {\n",
       "      --bg-color: #E8F0FE;\n",
       "      --fill-color: #1967D2;\n",
       "      --hover-bg-color: #E2EBFA;\n",
       "      --hover-fill-color: #174EA6;\n",
       "      --disabled-fill-color: #AAA;\n",
       "      --disabled-bg-color: #DDD;\n",
       "  }\n",
       "\n",
       "  [theme=dark] .colab-df-quickchart {\n",
       "      --bg-color: #3B4455;\n",
       "      --fill-color: #D2E3FC;\n",
       "      --hover-bg-color: #434B5C;\n",
       "      --hover-fill-color: #FFFFFF;\n",
       "      --disabled-bg-color: #3B4455;\n",
       "      --disabled-fill-color: #666;\n",
       "  }\n",
       "\n",
       "  .colab-df-quickchart {\n",
       "    background-color: var(--bg-color);\n",
       "    border: none;\n",
       "    border-radius: 50%;\n",
       "    cursor: pointer;\n",
       "    display: none;\n",
       "    fill: var(--fill-color);\n",
       "    height: 32px;\n",
       "    padding: 0;\n",
       "    width: 32px;\n",
       "  }\n",
       "\n",
       "  .colab-df-quickchart:hover {\n",
       "    background-color: var(--hover-bg-color);\n",
       "    box-shadow: 0 1px 2px rgba(60, 64, 67, 0.3), 0 1px 3px 1px rgba(60, 64, 67, 0.15);\n",
       "    fill: var(--button-hover-fill-color);\n",
       "  }\n",
       "\n",
       "  .colab-df-quickchart-complete:disabled,\n",
       "  .colab-df-quickchart-complete:disabled:hover {\n",
       "    background-color: var(--disabled-bg-color);\n",
       "    fill: var(--disabled-fill-color);\n",
       "    box-shadow: none;\n",
       "  }\n",
       "\n",
       "  .colab-df-spinner {\n",
       "    border: 2px solid var(--fill-color);\n",
       "    border-color: transparent;\n",
       "    border-bottom-color: var(--fill-color);\n",
       "    animation:\n",
       "      spin 1s steps(1) infinite;\n",
       "  }\n",
       "\n",
       "  @keyframes spin {\n",
       "    0% {\n",
       "      border-color: transparent;\n",
       "      border-bottom-color: var(--fill-color);\n",
       "      border-left-color: var(--fill-color);\n",
       "    }\n",
       "    20% {\n",
       "      border-color: transparent;\n",
       "      border-left-color: var(--fill-color);\n",
       "      border-top-color: var(--fill-color);\n",
       "    }\n",
       "    30% {\n",
       "      border-color: transparent;\n",
       "      border-left-color: var(--fill-color);\n",
       "      border-top-color: var(--fill-color);\n",
       "      border-right-color: var(--fill-color);\n",
       "    }\n",
       "    40% {\n",
       "      border-color: transparent;\n",
       "      border-right-color: var(--fill-color);\n",
       "      border-top-color: var(--fill-color);\n",
       "    }\n",
       "    60% {\n",
       "      border-color: transparent;\n",
       "      border-right-color: var(--fill-color);\n",
       "    }\n",
       "    80% {\n",
       "      border-color: transparent;\n",
       "      border-right-color: var(--fill-color);\n",
       "      border-bottom-color: var(--fill-color);\n",
       "    }\n",
       "    90% {\n",
       "      border-color: transparent;\n",
       "      border-bottom-color: var(--fill-color);\n",
       "    }\n",
       "  }\n",
       "</style>\n",
       "\n",
       "  <script>\n",
       "    async function quickchart(key) {\n",
       "      const quickchartButtonEl =\n",
       "        document.querySelector('#' + key + ' button');\n",
       "      quickchartButtonEl.disabled = true;  // To prevent multiple clicks.\n",
       "      quickchartButtonEl.classList.add('colab-df-spinner');\n",
       "      try {\n",
       "        const charts = await google.colab.kernel.invokeFunction(\n",
       "            'suggestCharts', [key], {});\n",
       "      } catch (error) {\n",
       "        console.error('Error during call to suggestCharts:', error);\n",
       "      }\n",
       "      quickchartButtonEl.classList.remove('colab-df-spinner');\n",
       "      quickchartButtonEl.classList.add('colab-df-quickchart-complete');\n",
       "    }\n",
       "    (() => {\n",
       "      let quickchartButtonEl =\n",
       "        document.querySelector('#df-365676ee-fc3d-4f21-8a92-45352c79f123 button');\n",
       "      quickchartButtonEl.style.display =\n",
       "        google.colab.kernel.accessAllowed ? 'block' : 'none';\n",
       "    })();\n",
       "  </script>\n",
       "</div>\n",
       "\n",
       "    </div>\n",
       "  </div>\n"
      ],
      "text/plain": [
       "                         Hanu Korean BBQ - 4.8 Stars  \\\n",
       "0  Such an amazing place, great food, great servi...   \n",
       "1  The staff were nice and kind and they cooked f...   \n",
       "2  Best Korean bbq in LA request for Michael Jack...   \n",
       "3  Had a great lunch with some work friends. Lena...   \n",
       "4  What a great find in K-town! Came here for the...   \n",
       "5  Hanu was absolutely delicious!!! From someone ...   \n",
       "6  In my opinion, Korean food in Los Angeles is s...   \n",
       "7  Service:- have a cute robot assistant that bri...   \n",
       "8  Things I love about Hanu:- the pork and beef c...   \n",
       "9  Lena was the best server and Hanu had the best...   \n",
       "\n",
       "                             Prime K BBQ - 4.8 Stars  \\\n",
       "0  If you're a meat enthusiast like me, this Kore...   \n",
       "1  Make this your go to KBBQ spot! For the qualit...   \n",
       "2  Prime K BBQ was pretty good. Me and my family ...   \n",
       "3  Affordable, decent quality and great side dish...   \n",
       "4  Not AYCE but it's a LOT of food. Our party of ...   \n",
       "5  I came here recently while visiting LA. A frie...   \n",
       "6  My friend suggested this place to me and my pa...   \n",
       "7  Quality of the meat and good service. Those ar...   \n",
       "8  Great meat, service, and location. Staff was p...   \n",
       "9  Gathered here for a good friends birthday and ...   \n",
       "\n",
       "                           King Chang LA - 4.8 Stars  \\\n",
       "0  Best Small Instance Soup ever. They offer vari...   \n",
       "1  Been here twice and it's been great! Service i...   \n",
       "2  This place has great service and plenty of opt...   \n",
       "3  This place has AMAZING KBBQ. There is a lot of...   \n",
       "4  Our server Wayne, was really kind and fun. The...   \n",
       "5  Saturday 5pmParking/Wait: They have a valet-on...   \n",
       "6  Seeing a lot of reviews on here from accounts ...   \n",
       "7  If you're looking for an unforgettable Korean ...   \n",
       "8  Delicious authentic food,the restaurant is ope...   \n",
       "9  Came here late on a Thursday night, around 11p...   \n",
       "\n",
       "                                 PZK BBQ - 4.7 Stars  \\\n",
       "0  My family was super hungry. Everything was ful...   \n",
       "1  VERY Bad service AND BAD quality meats NEVER c...   \n",
       "2  Service was very fast, we were guided to our s...   \n",
       "3  PZK BBQ is a KBBQ spot outside of Koreatown an...   \n",
       "4  For AYCE the price isn't too bad. I really lik...   \n",
       "5  This place is a good little kbbq spot in La . ...   \n",
       "6  I recently visited PZK BBQ, a late-night Korea...   \n",
       "7  This place is such a gem. Easily the best Kore...   \n",
       "8  We ate here over the weekend after a long day ...   \n",
       "9  I really wanted to not like this place because...   \n",
       "\n",
       "                           Woo Hyang Woo - 4.6 Stars  \\\n",
       "0  Got recommended to go there by Alex and it was...   \n",
       "1  Food is amazing, staff is super accommodating,...   \n",
       "2  I've been to most KBBQ spots in Ktown; from th...   \n",
       "3  /)/) ( . .) ( づ I really wanted to like this p...   \n",
       "4  Cant BEEF-lieve I had kbbq 3 nights in a row, ...   \n",
       "5  Service was great but their beef bowls are not...   \n",
       "6  Woo Hyang Woo is Korean BBQ spot with lunch sp...   \n",
       "7  High quality meat, not AYCE. Came on a Saturda...   \n",
       "8  This place is like a meat feast for the gods. ...   \n",
       "9  I'm so used to all you can eat places that at ...   \n",
       "\n",
       "                                   J BBQ - 3.6 Stars  \\\n",
       "0  Service is amazing ! I have an autistic child ...   \n",
       "1  The meat quality, service and ambiance are TOP...   \n",
       "2  I was a bit skeptical at first. My non Asian f...   \n",
       "3  We came on a Sunday and although it says 11AM ...   \n",
       "4  Good Food and Service... We appreciate everyon...   \n",
       "5  Okay got a surprise birthday party with my bf'...   \n",
       "6  Parking was a little inconvenient, but the foo...   \n",
       "7  They were really nice and accommodating even t...   \n",
       "8  Great service and good food! The food was very...   \n",
       "9  I recently tried J KBBQ, and it's now my new f...   \n",
       "\n",
       "                              Castle BBQ - 3.5 Stars  \\\n",
       "0  Everything was good, the service, the food, ev...   \n",
       "1  I absolutely love this place but... too small!...   \n",
       "2  Not sure why this place is only 3.5 stars. Abs...   \n",
       "3  Came in with my family for a quick lunch. The ...   \n",
       "4  This place is a solid 4/5! The price is the ch...   \n",
       "5  GREAT prices (one of the most affordable optio...   \n",
       "6  Me and my coworkers were initially going to go...   \n",
       "7  Food is amazing! The service was great, very a...   \n",
       "8  Loved it. Friendly staff, atmosphere was amazi...   \n",
       "9  The service was excellent. The food was great ...   \n",
       "\n",
       "                                Moodaepo - 3.3 Stars  \\\n",
       "0  Great service...  nice atmosphere .. food was ...   \n",
       "1  Combo A Lunch Special for only $25.99! I'm not...   \n",
       "2  Moodaepo has one of the cheapest AYCE KBBQ opt...   \n",
       "3  Got there at 11:30m. Business advertising that...   \n",
       "4  Great KBBQ place. Perfect for large parties. I...   \n",
       "5  So I've been coming here for years and the foo...   \n",
       "6  I love coming here for Korean bbq. However the...   \n",
       "7  A great option for AYCE KBBQ in LA! This spot ...   \n",
       "8  Let's start with the ambiance. It's okay not t...   \n",
       "9  Celebrated a graduation here and our server wa...   \n",
       "\n",
       "                     Bud Namu Korean BBQ - 3.3 Stars  \\\n",
       "0  Price: 10/10Service: 10/10Staff: Super friendl...   \n",
       "1  I used to go to this AYCE KBBQ a lot in colleg...   \n",
       "2  I recently had the pleasure of dining at Bud N...   \n",
       "3  Hole in the wall, decent place with decent mea...   \n",
       "4  This restaurant located in the heart of K-town...   \n",
       "5  Bud Namu is a kbbq spot I've been going to for...   \n",
       "6  Amazing place, amazing food!! The service was ...   \n",
       "7  Ordered Bud Namu through Uber eats and I wante...   \n",
       "8  I came during the opening hour so I got the be...   \n",
       "9  This is an amazing restaurant. Awesome food, a...   \n",
       "\n",
       "                              MOON BBQ 2 - 3.0 Stars  \n",
       "0  It's been so long since I've been here and it ...  \n",
       "1  At here on a Sunday after around 4pm.. it seem...  \n",
       "2  This is my go to spot for kbbq! The service is...  \n",
       "3  I'm here at 9:40 PM at the counter ready to or...  \n",
       "4  Ol reliable. I choose Set A and that's satisfy...  \n",
       "5  Small parking lot but you can valet for $5. Th...  \n",
       "6  This is my go-to spot for cheap kbbq eats. The...  \n",
       "7  One of the FEW KBBQ opened later at night on S...  \n",
       "8  This place was great. The meat quality was goo...  \n",
       "9  This place has such a lovely salad bar to go w...  "
      ]
     },
     "execution_count": 94,
     "metadata": {},
     "output_type": "execute_result"
    }
   ],
   "source": [
    "data = pd.read_csv(\"yelp_reviews_KBBQ.csv\")\n",
    "data.head(n = 10)"
   ]
  },
  {
   "cell_type": "markdown",
   "metadata": {
    "id": "KNBrW3eSN5fx"
   },
   "source": [
    "After all the data has been concat to one CSV file we now have a single dataset consisting of ten restaurants with 100 reviews to accompany each."
   ]
  },
  {
   "cell_type": "code",
   "execution_count": null,
   "metadata": {
    "id": "-at0Nupb6CPP"
   },
   "outputs": [],
   "source": [
    "hanu_kbbq = data[['Hanu Korean BBQ - 4.8 Stars']].copy()\n",
    "hanu_kbbq = hanu_kbbq.rename(columns={'Hanu Korean BBQ - 4.8 Stars': 'Review'})\n",
    "\n",
    "prime_k = data[['Prime K BBQ - 4.8 Stars']].copy()\n",
    "prime_k = prime_k.rename(columns={'Prime K BBQ - 4.8 Stars': 'Review'})\n",
    "\n",
    "king_chang_LA = data[['King Chang LA - 4.8 Stars']].copy()\n",
    "king_chang_LA = king_chang_LA.rename(columns={'King Chang LA - 4.8 Stars': 'Review'})\n",
    "\n",
    "pzkbbq = data[['PZK BBQ - 4.7 Stars']].copy()\n",
    "pzkbbq = pzkbbq.rename(columns={'PZK BBQ - 4.7 Stars': 'Review'})\n",
    "\n",
    "woo_hyang_woo = data[['Woo Hyang Woo - 4.6 Stars']].copy()\n",
    "woo_hyang_woo = woo_hyang_woo.rename(columns={'Woo Hyang Woo - 4.6 Stars': 'Review'})\n",
    "\n",
    "j_bbq = data[['J BBQ - 3.6 Stars']].copy()\n",
    "j_bbq = j_bbq.rename(columns={'J BBQ - 3.6 Stars': 'Review'})\n",
    "\n",
    "castle_bbq = data[['Castle BBQ - 3.5 Stars']].copy()\n",
    "castle_bbq = castle_bbq.rename(columns={'Castle BBQ - 3.5 Stars': 'Review'})\n",
    "\n",
    "moodaepo = data[['Moodaepo - 3.3 Stars']].copy()\n",
    "moodaepo = moodaepo.rename(columns={'Moodaepo - 3.3 Stars': 'Review'})\n",
    "\n",
    "bud_namu_kbbq = data[['Bud Namu Korean BBQ - 3.3 Stars']].copy()\n",
    "bud_namu_kbbq = bud_namu_kbbq.rename(columns={'Bud Namu Korean BBQ - 3.3 Stars': 'Review'})\n",
    "\n",
    "moon_bbq = data[['MOON BBQ 2 - 3.0 Stars']].copy()\n",
    "moon_bbq = moon_bbq.rename(columns={'MOON BBQ 2 - 3.0 Stars': 'Review'})"
   ]
  },
  {
   "cell_type": "markdown",
   "metadata": {
    "id": "cT_J8asRSkg0"
   },
   "source": [
    "Here, we split the main data into individual data frames. This is necessary for us in order to index our data, and apply functions to it."
   ]
  },
  {
   "cell_type": "code",
   "execution_count": null,
   "metadata": {
    "colab": {
     "base_uri": "https://localhost:8080/"
    },
    "id": "1KlE7IFo6CZB",
    "outputId": "2e3401de-da90-40c4-9894-aeb09b78bd00"
   },
   "outputs": [
    {
     "name": "stdout",
     "output_type": "stream",
     "text": [
      "Length of a sample review: 130\n"
     ]
    }
   ],
   "source": [
    "length = len(hanu_kbbq['Review'][0])\n",
    "print(f'Length of a sample review: {length}')"
   ]
  },
  {
   "cell_type": "code",
   "execution_count": null,
   "metadata": {
    "id": "klvBadg36Ch0"
   },
   "outputs": [],
   "source": [
    "hanu_kbbq['Length'] = hanu_kbbq['Review'].str.len()\n",
    "prime_k['Length'] = prime_k['Review'].str.len()\n",
    "king_chang_LA['Length'] = king_chang_LA['Review'].str.len()\n",
    "pzkbbq['Length'] = pzkbbq['Review'].str.len()\n",
    "woo_hyang_woo['Length'] = woo_hyang_woo['Review'].str.len()\n",
    "j_bbq['Length'] = j_bbq['Review'].str.len()\n",
    "castle_bbq['Length'] = castle_bbq['Review'].str.len()\n",
    "moodaepo['Length'] = moodaepo['Review'].str.len()\n",
    "bud_namu_kbbq['Length'] = bud_namu_kbbq['Review'].str.len()\n",
    "moon_bbq['Length'] = moon_bbq['Review'].str.len()"
   ]
  },
  {
   "cell_type": "code",
   "execution_count": null,
   "metadata": {
    "colab": {
     "base_uri": "https://localhost:8080/"
    },
    "id": "2IP7ZUU18jgS",
    "outputId": "d7887b3f-aff0-4b30-dfab-e87f2a8247be"
   },
   "outputs": [
    {
     "name": "stdout",
     "output_type": "stream",
     "text": [
      "Word count in a sample review: 23\n"
     ]
    }
   ],
   "source": [
    "word_count = hanu_kbbq['Review'][0].split()\n",
    "print(f'Word count in a sample review: {len(word_count)}')"
   ]
  },
  {
   "cell_type": "code",
   "execution_count": null,
   "metadata": {
    "id": "1b2gncdB8qlK"
   },
   "outputs": [],
   "source": [
    "def clean(review):\n",
    "    review = str(review)\n",
    "    review = review.lower()\n",
    "    review = re.sub('[^a-z A-Z 0-9-]+', '', review)\n",
    "    review = \" \".join([word for word in review.split() if\n",
    "                       word not in stopwords.words('english')])\n",
    "    return review"
   ]
  },
  {
   "cell_type": "code",
   "execution_count": null,
   "metadata": {
    "id": "PmgWovmo8wou"
   },
   "outputs": [],
   "source": [
    "hanu_kbbq['Review'] = hanu_kbbq['Review'].apply(clean)\n",
    "prime_k['Review'] = prime_k['Review'].apply(clean)\n",
    "king_chang_LA['Review'] = king_chang_LA['Review'].apply(clean)\n",
    "pzkbbq['Review'] = pzkbbq['Review'].apply(clean)\n",
    "woo_hyang_woo['Review'] = woo_hyang_woo['Review'].apply(clean)\n",
    "j_bbq['Review'] = j_bbq['Review'].apply(clean)\n",
    "castle_bbq['Review'] = castle_bbq['Review'].apply(clean)\n",
    "moodaepo['Review'] = moodaepo['Review'].apply(clean)\n",
    "bud_namu_kbbq['Review'] = bud_namu_kbbq['Review'].apply(clean)\n",
    "moon_bbq['Review'] = moon_bbq['Review'].apply(clean)"
   ]
  },
  {
   "cell_type": "markdown",
   "metadata": {
    "id": "vkAJvOeZS-BM"
   },
   "source": [
    "defined a function - clean - that will take in a string (review), and removes the upper case letters, substitutes all non lower case, upper case, or numerical characters into '', and splits the words into a list, removing stop words, and then joins them back together"
   ]
  },
  {
   "cell_type": "code",
   "execution_count": null,
   "metadata": {
    "id": "5Fb9Gx-18-Jv"
   },
   "outputs": [],
   "source": [
    "def corpus(text):\n",
    "    text_list = text.split()\n",
    "    return text_list"
   ]
  },
  {
   "cell_type": "markdown",
   "metadata": {
    "id": "BwhqMkpdTAoX"
   },
   "source": [
    "Here, we define a function \"corpus\" that takes in text, and then splits it into a list. This is a vital step in order to proceed with our projects methods like TF-IDF and to find the frequencies of words."
   ]
  },
  {
   "cell_type": "code",
   "execution_count": null,
   "metadata": {
    "colab": {
     "base_uri": "https://localhost:8080/"
    },
    "id": "kPKzrYk3-bE4",
    "outputId": "dffea93d-660d-40df-a635-5364174cf738"
   },
   "outputs": [
    {
     "name": "stdout",
     "output_type": "stream",
     "text": [
      "0      [amazing, place, great, food, great, service, ...\n",
      "1      [staff, nice, kind, cooked, us, food, good, ta...\n",
      "2      [best, korean, bbq, la, request, michael, jack...\n",
      "3      [great, lunch, work, friends, lena, server, gr...\n",
      "4      [great, find, k-town, came, first, time, husba...\n",
      "                             ...                        \n",
      "995    [small, parking, lot, valet, 5, inside, seatin...\n",
      "996    [go-to, spot, cheap, kbbq, eats, small, parkin...\n",
      "997    [one, kbbq, opened, later, night, sundays, see...\n",
      "998    [place, great, meat, quality, good, menu, cons...\n",
      "999    [place, lovely, salad, bar, go, delicious, sel...\n",
      "Name: Review_lists, Length: 1000, dtype: object\n"
     ]
    }
   ],
   "source": [
    "dataframes = [hanu_kbbq, prime_k, king_chang_LA, pzkbbq, woo_hyang_woo,\n",
    "              j_bbq, castle_bbq, moodaepo, bud_namu_kbbq, moon_bbq]\n",
    "\n",
    "merged_df = pd.concat(dataframes, ignore_index=True)\n",
    "\n",
    "merged_df['Review_lists'] = merged_df['Review'].apply(corpus)\n",
    "\n",
    "# Display the merged DataFrame\n",
    "print(merged_df['Review_lists'].head(n=1000))"
   ]
  },
  {
   "cell_type": "markdown",
   "metadata": {
    "id": "WeClAoStTG1X"
   },
   "source": [
    "Since our data is split into multiple data frames, and we want to be able to look at the corups for all the reviews combined, we merge the data into one data frame."
   ]
  },
  {
   "cell_type": "code",
   "execution_count": null,
   "metadata": {
    "colab": {
     "base_uri": "https://localhost:8080/"
    },
    "id": "G8BHdnlb_H3D",
    "outputId": "ee7945d0-8f07-472b-802a-14f5ce79eae2"
   },
   "outputs": [
    {
     "name": "stderr",
     "output_type": "stream",
     "text": [
      "100%|\u001b[32m██████████████████████████████████████████████████████████████████████████████████████████████████████████\u001b[0m| 1100/1100 [00:00<00:00, 89978.44it/s]\u001b[0m\n"
     ]
    },
    {
     "data": {
      "text/plain": [
       "50946"
      ]
     },
     "execution_count": 103,
     "metadata": {},
     "output_type": "execute_result"
    }
   ],
   "source": [
    "corpus = []\n",
    "for i in trange(merged_df.shape[0], ncols=150, nrows=10, colour='green', smoothing=0.8):\n",
    "    corpus += merged_df['Review_lists'][i]\n",
    "len(corpus)"
   ]
  },
  {
   "cell_type": "markdown",
   "metadata": {
    "id": "-ClJDZ7FTSbT"
   },
   "source": [
    "create a empty list (corpus), and create a progess bar to show the data from 'Review Lists' being appened to the corpus list."
   ]
  },
  {
   "cell_type": "code",
   "execution_count": null,
   "metadata": {
    "colab": {
     "base_uri": "https://localhost:8080/"
    },
    "id": "nquUKSfL_MSB",
    "outputId": "2a97162b-ad43-4d31-c1a4-5dc3402d5c45"
   },
   "outputs": [
    {
     "data": {
      "text/plain": [
       "[('service', 689),\n",
       " ('good', 661),\n",
       " ('meat', 624),\n",
       " ('place', 607),\n",
       " ('food', 585),\n",
       " ('great', 525),\n",
       " ('kbbq', 384),\n",
       " ('us', 373),\n",
       " ('quality', 361),\n",
       " ('like', 322),\n",
       " ('also', 305),\n",
       " ('back', 298),\n",
       " ('parking', 288),\n",
       " ('bbq', 285),\n",
       " ('beef', 282),\n",
       " ('korean', 279),\n",
       " ('really', 275),\n",
       " ('time', 274),\n",
       " ('get', 263),\n",
       " ('come', 261),\n",
       " ('definitely', 249),\n",
       " ('one', 246),\n",
       " ('would', 224),\n",
       " ('came', 218),\n",
       " ('best', 211),\n",
       " ('price', 211),\n",
       " ('dont', 208),\n",
       " ('combo', 200),\n",
       " ('go', 199),\n",
       " ('amazing', 198)]"
      ]
     },
     "execution_count": 104,
     "metadata": {},
     "output_type": "execute_result"
    }
   ],
   "source": [
    "mostCommon = Counter(corpus).most_common(30)\n",
    "mostCommon"
   ]
  },
  {
   "cell_type": "code",
   "execution_count": null,
   "metadata": {
    "id": "K2aMS89M_NOw"
   },
   "outputs": [],
   "source": [
    "words = []\n",
    "freq = []\n",
    "for word, count in mostCommon:\n",
    "    words.append(word)\n",
    "    freq.append(count)"
   ]
  },
  {
   "cell_type": "code",
   "execution_count": null,
   "metadata": {
    "colab": {
     "base_uri": "https://localhost:8080/",
     "height": 641
    },
    "id": "ZYLrKqka_NY_",
    "outputId": "a63af666-8c1c-4be8-8d6a-8ed626871ca1"
   },
   "outputs": [
    {
     "data": {
      "image/png": "[encoded data removed]",
      "text/plain": [
       "<Figure size 1700x700 with 1 Axes>"
      ]
     },
     "metadata": {},
     "output_type": "display_data"
    }
   ],
   "source": [
    "sns.barplot(x=freq, y=words)\n",
    "plt.title('Top 30 Most Frequently Occuring Words')\n",
    "plt.show()"
   ]
  },
  {
   "cell_type": "markdown",
   "metadata": {
    "id": "mSpOHCATOmBT"
   },
   "source": [
    "Once term-frequency is determined for all restaurants within the dataset we can note the 30 most utilized words within. We can note that service is the highest used word/token with good and meat being close behind. With this considered, based on frequency, service and food are the qualities of highest priority for diners at K-BBQ restaurants."
   ]
  },
  {
   "cell_type": "code",
   "execution_count": null,
   "metadata": {
    "id": "UvuGIl1r_Nim"
   },
   "outputs": [],
   "source": [
    "cv = CountVectorizer(ngram_range=(2,2))\n",
    "bigrams = cv.fit_transform(merged_df['Review'])"
   ]
  },
  {
   "cell_type": "code",
   "execution_count": null,
   "metadata": {
    "id": "5wWR-67K_TLJ"
   },
   "outputs": [],
   "source": [
    "count_values = bigrams.toarray().sum(axis=0)\n",
    "ngram_freq = pd.DataFrame(sorted([(count_values[i], k) for k, i in cv.vocabulary_.items()], reverse = True))\n",
    "ngram_freq.columns = [\"frequency\", \"ngram\"]"
   ]
  },
  {
   "cell_type": "code",
   "execution_count": null,
   "metadata": {
    "colab": {
     "base_uri": "https://localhost:8080/",
     "height": 670
    },
    "id": "qCp2b40__bBe",
    "outputId": "b604dc6e-ba09-4fa3-a2be-8dae1588375c"
   },
   "outputs": [
    {
     "data": {
      "image/png": "[encoded data removed]",
      "text/plain": [
       "<Figure size 1700x700 with 1 Axes>"
      ]
     },
     "metadata": {},
     "output_type": "display_data"
    }
   ],
   "source": [
    "sns.barplot(x=ngram_freq['frequency'][:10], y=ngram_freq['ngram'][:10])\n",
    "plt.title('Top 10 Most Frequently Occuring Bigrams')\n",
    "plt.show()"
   ]
  },
  {
   "cell_type": "markdown",
   "metadata": {
    "id": "VvRKcH0APO_G"
   },
   "source": [
    "Utilizing bi-grams as our frequency method we can note that the most obvious bi-gram is sequence 'korean bbq' itself. Because this is assumed to be the highest frequency we can look at the rest of the data to determine what other bi-grams matter to reviewers. This considered food items like side dishes, short rib, pork belly, and quality meat were all the top sequences. Using bi-grams tells us that food variety and quality are highly sought after qualities.  "
   ]
  },
  {
   "cell_type": "code",
   "execution_count": null,
   "metadata": {
    "id": "HHl3YxKK_cdA"
   },
   "outputs": [],
   "source": [
    "cv1 = CountVectorizer(ngram_range=(3,3))\n",
    "trigrams = cv1.fit_transform(merged_df['Review'])\n",
    "count_values = trigrams.toarray().sum(axis=0)\n",
    "ngram_freq = pd.DataFrame(sorted([(count_values[i], k) for k, i in cv1.vocabulary_.items()], reverse = True))\n",
    "ngram_freq.columns = [\"frequency\", \"ngram\"]"
   ]
  },
  {
   "cell_type": "code",
   "execution_count": null,
   "metadata": {
    "colab": {
     "base_uri": "https://localhost:8080/",
     "height": 670
    },
    "id": "HyYFA5pv_gvy",
    "outputId": "3d6caa2a-583a-4cbd-81e0-2d59e1e9ad63"
   },
   "outputs": [
    {
     "data": {
      "image/png": "[encoded data removed]",
      "text/plain": [
       "<Figure size 1700x700 with 1 Axes>"
      ]
     },
     "metadata": {},
     "output_type": "display_data"
    }
   ],
   "source": [
    "sns.barplot(x=ngram_freq['frequency'][:10], y=ngram_freq['ngram'][:10])\n",
    "plt.title('Top 10 Most Frequently Occuring Trigrams')\n",
    "plt.show()"
   ]
  },
  {
   "cell_type": "markdown",
   "metadata": {
    "id": "009QWMxRTfIf"
   },
   "source": [
    "Similar to the bi-grams, after calculating the frequency of tri-grams we can observe that types of food such as marinated short rib or kimchi fried rice were commonly used, with marinated short rib being the top choice. Food quality and variety once again were the most popular topics for reviewers when analyzing K-BBQ restaurants.   "
   ]
  },
  {
   "cell_type": "markdown",
   "metadata": {
    "id": "QvHG05QEYeTh"
   },
   "source": [
    "#TF-IDF"
   ]
  },
  {
   "cell_type": "markdown",
   "metadata": {
    "id": "MBmlMRisYin4"
   },
   "source": [
    "High rated restaurants:\n",
    "1. Hanu Korean BBQ - 4.8 stars\n",
    "2. Prime K BBQ - 4.8 stars\n",
    "3. King Chang LA - 4.8 stars\n",
    "4. PZK BBQ - 4.7 Stars\n",
    "5. Woo Hyang Woo - 4.6 stars"
   ]
  },
  {
   "cell_type": "markdown",
   "metadata": {
    "id": "HergB9JKYqob"
   },
   "source": [
    "Hanu Korean BBQ - 4.8 stars"
   ]
  },
  {
   "cell_type": "code",
   "execution_count": null,
   "metadata": {
    "colab": {
     "base_uri": "https://localhost:8080/"
    },
    "id": "zmzlmsEVZN25",
    "outputId": "fc9e09b7-a249-4d5d-a843-840763d41fa9"
   },
   "outputs": [
    {
     "name": "stdout",
     "output_type": "stream",
     "text": [
      "Requirement already satisfied: langdetect in /usr/local/lib/python3.10/dist-packages (1.0.9)\n",
      "Requirement already satisfied: six in /usr/local/lib/python3.10/dist-packages (from langdetect) (1.16.0)\n"
     ]
    }
   ],
   "source": [
    "!pip install langdetect"
   ]
  },
  {
   "cell_type": "code",
   "execution_count": null,
   "metadata": {
    "colab": {
     "base_uri": "https://localhost:8080/"
    },
    "id": "Ipy_QtDjYV9B",
    "outputId": "43e38d05-e3d2-450f-bcb8-d027bd92186e"
   },
   "outputs": [
    {
     "name": "stdout",
     "output_type": "stream",
     "text": [
      "     09302023   10  1000000000000000  10010  1010  10the   12  12999  \\\n",
      "0         0.0  0.0          0.000000    0.0   0.0    0.0  0.0    0.0   \n",
      "1         0.0  0.0          0.375909    0.0   0.0    0.0  0.0    0.0   \n",
      "2         0.0  0.0          0.000000    0.0   0.0    0.0  0.0    0.0   \n",
      "3         0.0  0.0          0.000000    0.0   0.0    0.0  0.0    0.0   \n",
      "4         0.0  0.0          0.000000    0.0   0.0    0.0  0.0    0.0   \n",
      "..        ...  ...               ...    ...   ...    ...  ...    ...   \n",
      "105       0.0  0.0          0.000000    0.0   0.0    0.0  0.0    0.0   \n",
      "106       0.0  0.0          0.000000    0.0   0.0    0.0  0.0    0.0   \n",
      "107       0.0  0.0          0.000000    0.0   0.0    0.0  0.0    0.0   \n",
      "108       0.0  0.0          0.000000    0.0   0.0    0.0  0.0    0.0   \n",
      "109       0.0  0.0          0.000000    0.0   0.0    0.0  0.0    0.0   \n",
      "\n",
      "     14999spicy  150  ...  youre  yourself6  youthey  youthis  youtube  youve  \\\n",
      "0           0.0  0.0  ...    0.0        0.0      0.0      0.0      0.0    0.0   \n",
      "1           0.0  0.0  ...    0.0        0.0      0.0      0.0      0.0    0.0   \n",
      "2           0.0  0.0  ...    0.0        0.0      0.0      0.0      0.0    0.0   \n",
      "3           0.0  0.0  ...    0.0        0.0      0.0      0.0      0.0    0.0   \n",
      "4           0.0  0.0  ...    0.0        0.0      0.0      0.0      0.0    0.0   \n",
      "..          ...  ...  ...    ...        ...      ...      ...      ...    ...   \n",
      "105         0.0  0.0  ...    0.0        0.0      0.0      0.0      0.0    0.0   \n",
      "106         0.0  0.0  ...    0.0        0.0      0.0      0.0      0.0    0.0   \n",
      "107         0.0  0.0  ...    0.0        0.0      0.0      0.0      0.0    0.0   \n",
      "108         0.0  0.0  ...    0.0        0.0      0.0      0.0      0.0    0.0   \n",
      "109         0.0  0.0  ...    0.0        0.0      0.0      0.0      0.0    0.0   \n",
      "\n",
      "     yukhoe  yummier  yummy  zone  \n",
      "0       0.0      0.0    0.0   0.0  \n",
      "1       0.0      0.0    0.0   0.0  \n",
      "2       0.0      0.0    0.0   0.0  \n",
      "3       0.0      0.0    0.0   0.0  \n",
      "4       0.0      0.0    0.0   0.0  \n",
      "..      ...      ...    ...   ...  \n",
      "105     0.0      0.0    0.0   0.0  \n",
      "106     0.0      0.0    0.0   0.0  \n",
      "107     0.0      0.0    0.0   0.0  \n",
      "108     0.0      0.0    0.0   0.0  \n",
      "109     0.0      0.0    0.0   0.0  \n",
      "\n",
      "[110 rows x 1708 columns]\n"
     ]
    }
   ],
   "source": [
    "import pandas as pd\n",
    "import numpy as np\n",
    "import string\n",
    "import langdetect\n",
    "from langdetect import detect\n",
    "from sklearn.feature_extraction.text import TfidfVectorizer\n",
    "\n",
    "df = pd.read_csv('yelp_reviews_KBBQ.csv')\n",
    "\n",
    "# replace all NaN values\n",
    "df.fillna('', inplace=True)\n",
    "\n",
    "# clean reviews\n",
    "# remove punctuation & uppercase\n",
    "\n",
    "def text_clean(column):\n",
    "  column = column.lower()\n",
    "  column = column.translate(str.maketrans('', '', string.punctuation))\n",
    "  return column\n",
    "\n",
    "# unecessary words\n",
    "tfidf_vectorizer_0 = TfidfVectorizer(stop_words='english')\n",
    "\n",
    "# specify column\n",
    "column_0 = 'Hanu Korean BBQ - 4.8 Stars'\n",
    "\n",
    "df[column_0] = df[column_0].apply(text_clean)\n",
    "\n",
    "# specify column in matrix\n",
    "tfidf_matrix_0 = tfidf_vectorizer_0.fit_transform(df[column_0])\n",
    "\n",
    "# create tfidf matrix\n",
    "tfidf_df_0 = pd.DataFrame(tfidf_matrix_0.toarray(), columns=tfidf_vectorizer_0.get_feature_names_out())\n",
    "print (tfidf_df_0)"
   ]
  },
  {
   "cell_type": "code",
   "execution_count": null,
   "metadata": {
    "colab": {
     "base_uri": "https://localhost:8080/"
    },
    "id": "YiKo5-KoZMS4",
    "outputId": "361b104a-0be7-4d6a-dbf0-207133b6ec51"
   },
   "outputs": [
    {
     "name": "stdout",
     "output_type": "stream",
     "text": [
      "food       5.723386\n",
      "great      5.393786\n",
      "meat       4.867576\n",
      "service    4.561904\n",
      "beef       4.494867\n",
      "good       4.134559\n",
      "place      4.089783\n",
      "combo      4.037313\n",
      "kbbq       3.847200\n",
      "server     3.115545\n",
      "dtype: float64\n"
     ]
    }
   ],
   "source": [
    "# find most important words\n",
    "high_df_words = tfidf_df_0.sum().sort_values(ascending=False).head(10)\n",
    "print (high_df_words)"
   ]
  },
  {
   "cell_type": "markdown",
   "metadata": {
    "id": "1kDnJ7NaZdUC"
   },
   "source": [
    "2. Prime K BBQ - 4.8 stars\n"
   ]
  },
  {
   "cell_type": "code",
   "execution_count": null,
   "metadata": {
    "colab": {
     "base_uri": "https://localhost:8080/"
    },
    "id": "_176iPFMYWMe",
    "outputId": "cb056bc8-a77b-4068-cebb-66aa3350f10f"
   },
   "outputs": [
    {
     "name": "stdout",
     "output_type": "stream",
     "text": [
      "     10       100  1010  1045pm      10pm  1110  1115pm   12       120  160  \\\n",
      "0   0.0  0.000000   0.0     0.0  0.000000   0.0     0.0  0.0  0.000000  0.0   \n",
      "1   0.0  0.000000   0.0     0.0  0.000000   0.0     0.0  0.0  0.152864  0.0   \n",
      "2   0.0  0.000000   0.0     0.0  0.000000   0.0     0.0  0.0  0.000000  0.0   \n",
      "3   0.0  0.000000   0.0     0.0  0.109974   0.0     0.0  0.0  0.000000  0.0   \n",
      "4   0.0  0.000000   0.0     0.0  0.000000   0.0     0.0  0.0  0.000000  0.0   \n",
      "..  ...       ...   ...     ...       ...   ...     ...  ...       ...  ...   \n",
      "81  0.0  0.000000   0.0     0.0  0.000000   0.0     0.0  0.0  0.000000  0.0   \n",
      "82  0.0  0.000000   0.0     0.0  0.000000   0.0     0.0  0.0  0.000000  0.0   \n",
      "83  0.0  0.000000   0.0     0.0  0.000000   0.0     0.0  0.0  0.000000  0.0   \n",
      "84  0.0  0.316865   0.0     0.0  0.000000   0.0     0.0  0.0  0.000000  0.0   \n",
      "85  0.0  0.000000   0.0     0.0  0.000000   0.0     0.0  0.0  0.000000  0.0   \n",
      "\n",
      "    ...  wouldve       wow  wrappers  writing  written  wrong     youll  \\\n",
      "0   ...      0.0  0.000000       0.0      0.0      0.0    0.0  0.000000   \n",
      "1   ...      0.0  0.000000       0.0      0.0      0.0    0.0  0.167056   \n",
      "2   ...      0.0  0.000000       0.0      0.0      0.0    0.0  0.000000   \n",
      "3   ...      0.0  0.084660       0.0      0.0      0.0    0.0  0.000000   \n",
      "4   ...      0.0  0.000000       0.0      0.0      0.0    0.0  0.000000   \n",
      "..  ...      ...       ...       ...      ...      ...    ...       ...   \n",
      "81  ...      0.0  0.000000       0.0      0.0      0.0    0.0  0.000000   \n",
      "82  ...      0.0  0.000000       0.0      0.0      0.0    0.0  0.000000   \n",
      "83  ...      0.0  0.281112       0.0      0.0      0.0    0.0  0.000000   \n",
      "84  ...      0.0  0.000000       0.0      0.0      0.0    0.0  0.000000   \n",
      "85  ...      0.0  0.000000       0.0      0.0      0.0    0.0  0.000000   \n",
      "\n",
      "       youre     youve  yummy  \n",
      "0   0.159008  0.000000    0.0  \n",
      "1   0.000000  0.000000    0.0  \n",
      "2   0.000000  0.239543    0.0  \n",
      "3   0.088861  0.000000    0.0  \n",
      "4   0.000000  0.000000    0.0  \n",
      "..       ...       ...    ...  \n",
      "81  0.000000  0.000000    0.0  \n",
      "82  0.000000  0.000000    0.0  \n",
      "83  0.000000  0.000000    0.0  \n",
      "84  0.000000  0.000000    0.0  \n",
      "85  0.000000  0.000000    0.0  \n",
      "\n",
      "[86 rows x 1006 columns]\n"
     ]
    }
   ],
   "source": [
    "# specify column\n",
    "column_1 = 'Prime K BBQ - 4.8 Stars'\n",
    "\n",
    "df[column_1] = df[column_1].apply(text_clean)\n",
    "\n",
    "#language\n",
    "df[column_1] = df[column_1].apply(lambda x: x if (len(x) > 1 and detect(x) == 'en') else '')\n",
    "df = df[df[column_1] != '']\n",
    "\n",
    "# unecessary words\n",
    "tfidf_vectorizer_1 = TfidfVectorizer(stop_words='english')\n",
    "\n",
    "# specify column in matrix\n",
    "tfidf_matrix_1 = tfidf_vectorizer_1.fit_transform(df[column_1])\n",
    "\n",
    "# create tfidf matrix\n",
    "tfidf_df_1 = pd.DataFrame(tfidf_matrix_1.toarray(), columns=tfidf_vectorizer_1.get_feature_names_out())\n",
    "print (tfidf_df_1)"
   ]
  },
  {
   "cell_type": "code",
   "execution_count": null,
   "metadata": {
    "colab": {
     "base_uri": "https://localhost:8080/"
    },
    "id": "OILPb4dTYWWB",
    "outputId": "11c8ca1a-9658-47ec-a381-330265bcbefe"
   },
   "outputs": [
    {
     "name": "stdout",
     "output_type": "stream",
     "text": [
      "meat          5.654619\n",
      "quality       5.542337\n",
      "place         5.492609\n",
      "great         4.904881\n",
      "service       4.853308\n",
      "good          4.413865\n",
      "food          3.970838\n",
      "korean        3.309478\n",
      "amazing       3.125325\n",
      "definitely    3.118008\n",
      "dtype: float64\n"
     ]
    }
   ],
   "source": [
    "# find most important words\n",
    "high_df_words = tfidf_df_1.sum().sort_values(ascending=False).head(10)\n",
    "print (high_df_words)"
   ]
  },
  {
   "cell_type": "markdown",
   "metadata": {
    "id": "JpIlLDKDZvt2"
   },
   "source": [
    "4. PZK BBQ - 4.7 stars"
   ]
  },
  {
   "cell_type": "code",
   "execution_count": null,
   "metadata": {
    "colab": {
     "base_uri": "https://localhost:8080/"
    },
    "id": "b41uUKa0YWfz",
    "outputId": "f93c5827-166c-4a36-ec72-c6de3d5b8b82"
   },
   "outputs": [
    {
     "name": "stdout",
     "output_type": "stream",
     "text": [
      "     01   10  100  1000pm  1010  1110  11pm   12      1723        20  ...  \\\n",
      "0   0.0  0.0  0.0     0.0   0.0   0.0   0.0  0.0  0.000000  0.000000  ...   \n",
      "1   0.0  0.0  0.0     0.0   0.0   0.0   0.0  0.0  0.000000  0.000000  ...   \n",
      "2   0.0  0.0  0.0     0.0   0.0   0.0   0.0  0.0  0.000000  0.000000  ...   \n",
      "3   0.0  0.0  0.0     0.0   0.0   0.0   0.0  0.0  0.000000  0.000000  ...   \n",
      "4   0.0  0.0  0.0     0.0   0.0   0.0   0.0  0.0  0.000000  0.000000  ...   \n",
      "..  ...  ...  ...     ...   ...   ...   ...  ...       ...       ...  ...   \n",
      "81  0.0  0.0  0.0     0.0   0.0   0.0   0.0  0.0  0.000000  0.000000  ...   \n",
      "82  0.0  0.0  0.0     0.0   0.0   0.0   0.0  0.0  0.000000  0.000000  ...   \n",
      "83  0.0  0.0  0.0     0.0   0.0   0.0   0.0  0.0  0.000000  0.000000  ...   \n",
      "84  0.0  0.0  0.0     0.0   0.0   0.0   0.0  0.0  0.073011  0.066809  ...   \n",
      "85  0.0  0.0  0.0     0.0   0.0   0.0   0.0  0.0  0.000000  0.000000  ...   \n",
      "\n",
      "    yangnyum  yelp  yesterday  yifang  youll  youre  youve  yukhwae  yummy  \\\n",
      "0        0.0   0.0        0.0     0.0    0.0    0.0    0.0      0.0    0.0   \n",
      "1        0.0   0.0        0.0     0.0    0.0    0.0    0.0      0.0    0.0   \n",
      "2        0.0   0.0        0.0     0.0    0.0    0.0    0.0      0.0    0.0   \n",
      "3        0.0   0.0        0.0     0.0    0.0    0.0    0.0      0.0    0.0   \n",
      "4        0.0   0.0        0.0     0.0    0.0    0.0    0.0      0.0    0.0   \n",
      "..       ...   ...        ...     ...    ...    ...    ...      ...    ...   \n",
      "81       0.0   0.0        0.0     0.0    0.0    0.0    0.0      0.0    0.0   \n",
      "82       0.0   0.0        0.0     0.0    0.0    0.0    0.0      0.0    0.0   \n",
      "83       0.0   0.0        0.0     0.0    0.0    0.0    0.0      0.0    0.0   \n",
      "84       0.0   0.0        0.0     0.0    0.0    0.0    0.0      0.0    0.0   \n",
      "85       0.0   0.0        0.0     0.0    0.0    0.0    0.0      0.0    0.0   \n",
      "\n",
      "        zero  \n",
      "0   0.000000  \n",
      "1   0.000000  \n",
      "2   0.000000  \n",
      "3   0.000000  \n",
      "4   0.000000  \n",
      "..       ...  \n",
      "81  0.000000  \n",
      "82  0.000000  \n",
      "83  0.000000  \n",
      "84  0.000000  \n",
      "85  0.218519  \n",
      "\n",
      "[86 rows x 1284 columns]\n"
     ]
    }
   ],
   "source": [
    "# specify column\n",
    "column_2 = 'King Chang LA - 4.8 Stars'\n",
    "\n",
    "df[column_2] = df[column_2].apply(text_clean)\n",
    "\n",
    "# unecessary words\n",
    "tfidf_vectorizer_2 = TfidfVectorizer(stop_words='english')\n",
    "\n",
    "# specify column in matrix\n",
    "tfidf_matrix_2 = tfidf_vectorizer_2.fit_transform(df[column_2])\n",
    "\n",
    "# create tfidf matrix\n",
    "tfidf_df_2 = pd.DataFrame(tfidf_matrix_2.toarray(), columns=tfidf_vectorizer_2.get_feature_names_out())\n",
    "print (tfidf_df_2)"
   ]
  },
  {
   "cell_type": "code",
   "execution_count": null,
   "metadata": {
    "colab": {
     "base_uri": "https://localhost:8080/"
    },
    "id": "mihO1vxaYWpK",
    "outputId": "7fdb1324-f8aa-462c-8aa0-d04c7d2582e4"
   },
   "outputs": [
    {
     "name": "stdout",
     "output_type": "stream",
     "text": [
      "great        5.244746\n",
      "good         4.724802\n",
      "service      4.631807\n",
      "food         4.517533\n",
      "combo        3.869048\n",
      "place        3.722030\n",
      "really       3.519240\n",
      "meat         3.478002\n",
      "intestine    3.171341\n",
      "wayne        2.987144\n",
      "dtype: float64\n"
     ]
    }
   ],
   "source": [
    "# find most important words\n",
    "high_df_words = tfidf_df_2.sum().sort_values(ascending=False).head(10)\n",
    "print (high_df_words)"
   ]
  },
  {
   "cell_type": "markdown",
   "metadata": {
    "id": "Fa4DQY4fdQ56"
   },
   "source": [
    "4. PZK BBQ - 4.7 stars"
   ]
  },
  {
   "cell_type": "code",
   "execution_count": null,
   "metadata": {
    "colab": {
     "base_uri": "https://localhost:8080/"
    },
    "id": "8LeF1ODjdRII",
    "outputId": "53d3f03c-638c-4527-99bc-b73ba69642a1"
   },
   "outputs": [
    {
     "name": "stdout",
     "output_type": "stream",
     "text": [
      "          10      1010   11        12   15  1520  1999      1hr   20  200  \\\n",
      "0   0.000000  0.000000  0.0  0.000000  0.0   0.0   0.0  0.00000  0.0  0.0   \n",
      "1   0.163636  0.000000  0.0  0.000000  0.0   0.0   0.0  0.00000  0.0  0.0   \n",
      "2   0.000000  0.000000  0.0  0.000000  0.0   0.0   0.0  0.14903  0.0  0.0   \n",
      "3   0.000000  0.000000  0.0  0.000000  0.0   0.0   0.0  0.00000  0.0  0.0   \n",
      "4   0.000000  0.000000  0.0  0.000000  0.0   0.0   0.0  0.00000  0.0  0.0   \n",
      "..       ...       ...  ...       ...  ...   ...   ...      ...  ...  ...   \n",
      "81  0.000000  0.000000  0.0  0.000000  0.0   0.0   0.0  0.00000  0.0  0.0   \n",
      "82  0.000000  0.000000  0.0  0.000000  0.0   0.0   0.0  0.00000  0.0  0.0   \n",
      "83  0.000000  0.000000  0.0  0.079715  0.0   0.0   0.0  0.00000  0.0  0.0   \n",
      "84  0.000000  0.000000  0.0  0.000000  0.0   0.0   0.0  0.00000  0.0  0.0   \n",
      "85  0.000000  0.320903  0.0  0.000000  0.0   0.0   0.0  0.00000  0.0  0.0   \n",
      "\n",
      "    ...  yep  york  youd  youi    youll  younger  youngest     youre  youve  \\\n",
      "0   ...  0.0   0.0   0.0   0.0  0.00000      0.0  0.000000  0.097536    0.0   \n",
      "1   ...  0.0   0.0   0.0   0.0  0.00000      0.0  0.000000  0.000000    0.0   \n",
      "2   ...  0.0   0.0   0.0   0.0  0.00000      0.0  0.000000  0.000000    0.0   \n",
      "3   ...  0.0   0.0   0.0   0.0  0.00000      0.0  0.000000  0.000000    0.0   \n",
      "4   ...  0.0   0.0   0.0   0.0  0.00000      0.0  0.000000  0.000000    0.0   \n",
      "..  ...  ...   ...   ...   ...      ...      ...       ...       ...    ...   \n",
      "81  ...  0.0   0.0   0.0   0.0  0.00000      0.0  0.000000  0.000000    0.0   \n",
      "82  ...  0.0   0.0   0.0   0.0  0.00000      0.0  0.000000  0.000000    0.0   \n",
      "83  ...  0.0   0.0   0.0   0.0  0.00000      0.0  0.093259  0.000000    0.0   \n",
      "84  ...  0.0   0.0   0.0   0.0  0.10335      0.0  0.000000  0.079888    0.0   \n",
      "85  ...  0.0   0.0   0.0   0.0  0.00000      0.0  0.000000  0.000000    0.0   \n",
      "\n",
      "    yummy  \n",
      "0     0.0  \n",
      "1     0.0  \n",
      "2     0.0  \n",
      "3     0.0  \n",
      "4     0.0  \n",
      "..    ...  \n",
      "81    0.0  \n",
      "82    0.0  \n",
      "83    0.0  \n",
      "84    0.0  \n",
      "85    0.0  \n",
      "\n",
      "[86 rows x 1346 columns]\n"
     ]
    }
   ],
   "source": [
    "# specify column\n",
    "column_3 = 'PZK BBQ - 4.7 Stars'\n",
    "\n",
    "df[column_3] = df[column_3].apply(text_clean)\n",
    "\n",
    "# unecessary words\n",
    "tfidf_vectorizer_3 = TfidfVectorizer(stop_words='english')\n",
    "\n",
    "# specify column in matrix\n",
    "tfidf_matrix_3 = tfidf_vectorizer_3.fit_transform(df[column_3])\n",
    "\n",
    "# create tfidf matrix\n",
    "tfidf_df_3 = pd.DataFrame(tfidf_matrix_3.toarray(), columns=tfidf_vectorizer_3.get_feature_names_out())\n",
    "print (tfidf_df_3)"
   ]
  },
  {
   "cell_type": "code",
   "execution_count": null,
   "metadata": {
    "colab": {
     "base_uri": "https://localhost:8080/"
    },
    "id": "vYtKXKncdU46",
    "outputId": "0466909b-18eb-4d0b-9c77-f739e05c32b0"
   },
   "outputs": [
    {
     "name": "stdout",
     "output_type": "stream",
     "text": [
      "great      5.346241\n",
      "place      5.099568\n",
      "good       4.216658\n",
      "service    4.110064\n",
      "food       4.088194\n",
      "meat       3.603990\n",
      "ayce       3.186903\n",
      "quality    3.131624\n",
      "kbbq       3.041681\n",
      "bbq        2.896310\n",
      "dtype: float64\n"
     ]
    }
   ],
   "source": [
    "# find most important words\n",
    "high_df_words = tfidf_df_3.sum().sort_values(ascending=False).head(10)\n",
    "print (high_df_words)"
   ]
  },
  {
   "cell_type": "markdown",
   "metadata": {
    "id": "Rax4TnW9dVeX"
   },
   "source": [
    "5. Woo Hyang Woo - 4.6 stars"
   ]
  },
  {
   "cell_type": "code",
   "execution_count": null,
   "metadata": {
    "colab": {
     "base_uri": "https://localhost:8080/"
    },
    "id": "lkI-5U2kdVrL",
    "outputId": "fb85e0a2-886c-44b0-e50c-16cc0235c111"
   },
   "outputs": [
    {
     "name": "stdout",
     "output_type": "stream",
     "text": [
      "          10  100      1010  1015  10pm  1110  1130am2pm  129        14  \\\n",
      "0   0.000000  0.0  0.000000   0.0   0.0   0.0        0.0  0.0  0.000000   \n",
      "1   0.000000  0.0  0.000000   0.0   0.0   0.0        0.0  0.0  0.000000   \n",
      "2   0.000000  0.0  0.000000   0.0   0.0   0.0        0.0  0.0  0.000000   \n",
      "3   0.000000  0.0  0.000000   0.0   0.0   0.0        0.0  0.0  0.000000   \n",
      "4   0.063092  0.0  0.000000   0.0   0.0   0.0        0.0  0.0  0.088919   \n",
      "..       ...  ...       ...   ...   ...   ...        ...  ...       ...   \n",
      "81  0.000000  0.0  0.179572   0.0   0.0   0.0        0.0  0.0  0.000000   \n",
      "82  0.000000  0.0  0.000000   0.0   0.0   0.0        0.0  0.0  0.000000   \n",
      "83  0.000000  0.0  0.000000   0.0   0.0   0.0        0.0  0.0  0.000000   \n",
      "84  0.000000  0.0  0.000000   0.0   0.0   0.0        0.0  0.0  0.000000   \n",
      "85  0.000000  0.0  0.000000   0.0   0.0   0.0        0.0  0.0  0.000000   \n",
      "\n",
      "        1520  ...  yelp  yelpers  yes  youll  young     youre       yuk  \\\n",
      "0   0.000000  ...   0.0      0.0  0.0    0.0    0.0  0.000000  0.000000   \n",
      "1   0.000000  ...   0.0      0.0  0.0    0.0    0.0  0.000000  0.000000   \n",
      "2   0.121732  ...   0.0      0.0  0.0    0.0    0.0  0.000000  0.000000   \n",
      "3   0.000000  ...   0.0      0.0  0.0    0.0    0.0  0.000000  0.000000   \n",
      "4   0.000000  ...   0.0      0.0  0.0    0.0    0.0  0.068451  0.000000   \n",
      "..       ...  ...   ...      ...  ...    ...    ...       ...       ...   \n",
      "81  0.000000  ...   0.0      0.0  0.0    0.0    0.0  0.000000  0.000000   \n",
      "82  0.000000  ...   0.0      0.0  0.0    0.0    0.0  0.107701  0.000000   \n",
      "83  0.000000  ...   0.0      0.0  0.0    0.0    0.0  0.000000  0.207315   \n",
      "84  0.000000  ...   0.0      0.0  0.0    0.0    0.0  0.266113  0.000000   \n",
      "85  0.000000  ...   0.0      0.0  0.0    0.0    0.0  0.000000  0.000000   \n",
      "\n",
      "    yummy      yuzu  zero  \n",
      "0     0.0  0.000000   0.0  \n",
      "1     0.0  0.000000   0.0  \n",
      "2     0.0  0.000000   0.0  \n",
      "3     0.0  0.000000   0.0  \n",
      "4     0.0  0.000000   0.0  \n",
      "..    ...       ...   ...  \n",
      "81    0.0  0.000000   0.0  \n",
      "82    0.0  0.139905   0.0  \n",
      "83    0.0  0.000000   0.0  \n",
      "84    0.0  0.000000   0.0  \n",
      "85    0.0  0.000000   0.0  \n",
      "\n",
      "[86 rows x 1410 columns]\n"
     ]
    }
   ],
   "source": [
    "# specify column\n",
    "column_4 = 'Woo Hyang Woo - 4.6 Stars'\n",
    "\n",
    "df[column_4] = df[column_4].apply(text_clean)\n",
    "\n",
    "# unecessary words\n",
    "tfidf_vectorizer_4 = TfidfVectorizer(stop_words='english')\n",
    "\n",
    "# specify column in matrix\n",
    "tfidf_matrix_4 = tfidf_vectorizer_4.fit_transform(df[column_4])\n",
    "\n",
    "# create tfidf matrix\n",
    "tfidf_df_4 = pd.DataFrame(tfidf_matrix_4.toarray(), columns=tfidf_vectorizer_4.get_feature_names_out())\n",
    "print (tfidf_df_4)"
   ]
  },
  {
   "cell_type": "code",
   "execution_count": null,
   "metadata": {
    "colab": {
     "base_uri": "https://localhost:8080/"
    },
    "id": "kqsi8iLldV29",
    "outputId": "37c1cb2e-b94c-436f-a62f-651afdf5746a"
   },
   "outputs": [
    {
     "name": "stdout",
     "output_type": "stream",
     "text": [
      "good       4.312248\n",
      "great      4.246579\n",
      "food       4.237705\n",
      "place      4.220060\n",
      "service    3.980163\n",
      "meat       3.713371\n",
      "really     3.284795\n",
      "alex       3.141005\n",
      "rib        3.080818\n",
      "woo        3.060918\n",
      "dtype: float64\n"
     ]
    }
   ],
   "source": [
    "# find most important words\n",
    "high_df_words = tfidf_df_4.sum().sort_values(ascending=False).head(10)\n",
    "print (high_df_words)"
   ]
  },
  {
   "cell_type": "markdown",
   "metadata": {
    "id": "pfUOCWWYdWCs"
   },
   "source": [
    "Lowest Rated Restaurants:\n",
    "1. J BBQ - 3.6 stars\n",
    "2. Castle BBQ - 3.5 stars\n",
    "3. Moodaepo - 3.3 stars\n",
    "4. Bud Namu Korean BBQ - 3.3 stars\n",
    "5. MOON BBQ 2 - 3.0 stars\n"
   ]
  },
  {
   "cell_type": "markdown",
   "metadata": {
    "id": "bwHi4rkvesCH"
   },
   "source": [
    "1. J BBQ - 3.6 stars"
   ]
  },
  {
   "cell_type": "code",
   "execution_count": null,
   "metadata": {
    "colab": {
     "base_uri": "https://localhost:8080/"
    },
    "id": "dI2l94UwdWNm",
    "outputId": "034507be-a28b-479a-caa7-a87608690328"
   },
   "outputs": [
    {
     "name": "stdout",
     "output_type": "stream",
     "text": [
      "     10  100  1030pm  1099   11      11am   12  1299  1299person      12pm  \\\n",
      "0   0.0  0.0     0.0   0.0  0.0  0.000000  0.0   0.0         0.0  0.000000   \n",
      "1   0.0  0.0     0.0   0.0  0.0  0.000000  0.0   0.0         0.0  0.000000   \n",
      "2   0.0  0.0     0.0   0.0  0.0  0.000000  0.0   0.0         0.0  0.000000   \n",
      "3   0.0  0.0     0.0   0.0  0.0  0.146648  0.0   0.0         0.0  0.146648   \n",
      "4   0.0  0.0     0.0   0.0  0.0  0.000000  0.0   0.0         0.0  0.000000   \n",
      "..  ...  ...     ...   ...  ...       ...  ...   ...         ...       ...   \n",
      "81  0.0  0.0     0.0   0.0  0.0  0.000000  0.0   0.0         0.0  0.000000   \n",
      "82  0.0  0.0     0.0   0.0  0.0  0.000000  0.0   0.0         0.0  0.000000   \n",
      "83  0.0  0.0     0.0   0.0  0.0  0.000000  0.0   0.0         0.0  0.000000   \n",
      "84  0.0  0.0     0.0   0.0  0.0  0.000000  0.0   0.0         0.0  0.000000   \n",
      "85  0.0  0.0     0.0   0.0  0.0  0.000000  0.0   0.0         0.0  0.000000   \n",
      "\n",
      "    ...  yesterday  yikes  youll  young  younger  youre  youthe  yukgaejang  \\\n",
      "0   ...        0.0    0.0    0.0    0.0      0.0    0.0     0.0         0.0   \n",
      "1   ...        0.0    0.0    0.0    0.0      0.0    0.0     0.0         0.0   \n",
      "2   ...        0.0    0.0    0.0    0.0      0.0    0.0     0.0         0.0   \n",
      "3   ...        0.0    0.0    0.0    0.0      0.0    0.0     0.0         0.0   \n",
      "4   ...        0.0    0.0    0.0    0.0      0.0    0.0     0.0         0.0   \n",
      "..  ...        ...    ...    ...    ...      ...    ...     ...         ...   \n",
      "81  ...        0.0    0.0    0.0    0.0      0.0    0.0     0.0         0.0   \n",
      "82  ...        0.0    0.0    0.0    0.0      0.0    0.0     0.0         0.0   \n",
      "83  ...        0.0    0.0    0.0    0.0      0.0    0.0     0.0         0.0   \n",
      "84  ...        0.0    0.0    0.0    0.0      0.0    0.0     0.0         0.0   \n",
      "85  ...        0.0    0.0    0.0    0.0      0.0    0.0     0.0         0.0   \n",
      "\n",
      "    yum  yummy  \n",
      "0   0.0    0.0  \n",
      "1   0.0    0.0  \n",
      "2   0.0    0.0  \n",
      "3   0.0    0.0  \n",
      "4   0.0    0.0  \n",
      "..  ...    ...  \n",
      "81  0.0    0.0  \n",
      "82  0.0    0.0  \n",
      "83  0.0    0.0  \n",
      "84  0.0    0.0  \n",
      "85  0.0    0.0  \n",
      "\n",
      "[86 rows x 1387 columns]\n"
     ]
    }
   ],
   "source": [
    "# specify column\n",
    "column_5 = 'J BBQ - 3.6 Stars'\n",
    "\n",
    "df[column_5] = df[column_5].apply(text_clean)\n",
    "\n",
    "# unecessary words\n",
    "tfidf_vectorizer_5 = TfidfVectorizer(stop_words='english')\n",
    "\n",
    "# specify column in matrix\n",
    "tfidf_matrix_5 = tfidf_vectorizer_5.fit_transform(df[column_5])\n",
    "\n",
    "# create tfidf matrix\n",
    "tfidf_df_5 = pd.DataFrame(tfidf_matrix_5.toarray(), columns=tfidf_vectorizer_5.get_feature_names_out())\n",
    "print (tfidf_df_5)"
   ]
  },
  {
   "cell_type": "code",
   "execution_count": null,
   "metadata": {
    "colab": {
     "base_uri": "https://localhost:8080/"
    },
    "id": "14_nxNx4dWZG",
    "outputId": "c3b4888d-7b9e-4e58-ef90-0c732917c4dd"
   },
   "outputs": [
    {
     "name": "stdout",
     "output_type": "stream",
     "text": [
      "place      4.204855\n",
      "good       4.174040\n",
      "food       3.861271\n",
      "service    3.825460\n",
      "meat       3.630803\n",
      "great      2.900231\n",
      "parking    2.846078\n",
      "quality    2.436575\n",
      "time       2.429465\n",
      "come       2.362051\n",
      "dtype: float64\n"
     ]
    }
   ],
   "source": [
    "# find most important words\n",
    "high_df_words = tfidf_df_5.sum().sort_values(ascending=False).head(10)\n",
    "print (high_df_words)"
   ]
  },
  {
   "cell_type": "markdown",
   "metadata": {
    "id": "dKq1wO9VdWlw"
   },
   "source": [
    "2. Castle BBQ - 3.5 stars"
   ]
  },
  {
   "cell_type": "code",
   "execution_count": null,
   "metadata": {
    "colab": {
     "base_uri": "https://localhost:8080/"
    },
    "id": "KRXKviJ0e4n5",
    "outputId": "4a66737f-d70f-4107-a4b2-18792e87b3da"
   },
   "outputs": [
    {
     "name": "stdout",
     "output_type": "stream",
     "text": [
      "     10       100  1010    101020   103022     1099   12  121519man  1299  \\\n",
      "0   0.0  0.000000   0.0  0.000000  0.00000  0.00000  0.0        0.0   0.0   \n",
      "1   0.0  0.000000   0.0  0.000000  0.00000  0.00000  0.0        0.0   0.0   \n",
      "2   0.0  0.000000   0.0  0.000000  0.00000  0.00000  0.0        0.0   0.0   \n",
      "3   0.0  0.000000   0.0  0.000000  0.00000  0.00000  0.0        0.0   0.0   \n",
      "4   0.0  0.000000   0.0  0.000000  0.00000  0.00000  0.0        0.0   0.0   \n",
      "..  ...       ...   ...       ...      ...      ...  ...        ...   ...   \n",
      "81  0.0  0.000000   0.0  0.000000  0.00000  0.00000  0.0        0.0   0.0   \n",
      "82  0.0  0.000000   0.0  0.000000  0.23887  0.00000  0.0        0.0   0.0   \n",
      "83  0.0  0.000000   0.0  0.327158  0.00000  0.00000  0.0        0.0   0.0   \n",
      "84  0.0  0.058401   0.0  0.000000  0.00000  0.05344  0.0        0.0   0.0   \n",
      "85  0.0  0.000000   0.0  0.000000  0.00000  0.00000  0.0        0.0   0.0   \n",
      "\n",
      "     13  ...    yellow  yelp  yep  yes     youll  younger     youre     youve  \\\n",
      "0   0.0  ...  0.000000   0.0  0.0  0.0  0.000000      0.0  0.000000  0.000000   \n",
      "1   0.0  ...  0.000000   0.0  0.0  0.0  0.000000      0.0  0.110854  0.000000   \n",
      "2   0.0  ...  0.000000   0.0  0.0  0.0  0.000000      0.0  0.000000  0.000000   \n",
      "3   0.0  ...  0.000000   0.0  0.0  0.0  0.000000      0.0  0.000000  0.000000   \n",
      "4   0.0  ...  0.000000   0.0  0.0  0.0  0.000000      0.0  0.149240  0.000000   \n",
      "..  ...  ...       ...   ...  ...  ...       ...      ...       ...       ...   \n",
      "81  0.0  ...  0.000000   0.0  0.0  0.0  0.000000      0.0  0.155279  0.000000   \n",
      "82  0.0  ...  0.000000   0.0  0.0  0.0  0.000000      0.0  0.000000  0.000000   \n",
      "83  0.0  ...  0.000000   0.0  0.0  0.0  0.000000      0.0  0.000000  0.000000   \n",
      "84  0.0  ...  0.000000   0.0  0.0  0.0  0.044958      0.0  0.072953  0.058401   \n",
      "85  0.0  ...  0.132758   0.0  0.0  0.0  0.000000      0.0  0.000000  0.000000   \n",
      "\n",
      "       yummy  zelle  \n",
      "0   0.000000    0.0  \n",
      "1   0.000000    0.0  \n",
      "2   0.000000    0.0  \n",
      "3   0.000000    0.0  \n",
      "4   0.238942    0.0  \n",
      "..       ...    ...  \n",
      "81  0.000000    0.0  \n",
      "82  0.000000    0.0  \n",
      "83  0.000000    0.0  \n",
      "84  0.000000    0.0  \n",
      "85  0.000000    0.0  \n",
      "\n",
      "[86 rows x 1346 columns]\n"
     ]
    }
   ],
   "source": [
    "column_6 = 'Castle BBQ - 3.5 Stars'\n",
    "\n",
    "df[column_6] = df[column_6].apply(text_clean)\n",
    "\n",
    "# unecessary words\n",
    "tfidf_vectorizer_6 = TfidfVectorizer(stop_words='english')\n",
    "\n",
    "# specify column in matrix\n",
    "tfidf_matrix_6 = tfidf_vectorizer_6.fit_transform(df[column_6])\n",
    "\n",
    "# create tfidf matrix\n",
    "tfidf_df_6 = pd.DataFrame(tfidf_matrix_6.toarray(), columns=tfidf_vectorizer_6.get_feature_names_out())\n",
    "print (tfidf_df_6)"
   ]
  },
  {
   "cell_type": "code",
   "execution_count": null,
   "metadata": {
    "colab": {
     "base_uri": "https://localhost:8080/"
    },
    "id": "Fek45MLre44J",
    "outputId": "c55dc445-e8e4-4306-e754-293cb63b9449"
   },
   "outputs": [
    {
     "name": "stdout",
     "output_type": "stream",
     "text": [
      "service       4.917927\n",
      "great         4.740273\n",
      "good          4.423005\n",
      "place         4.134615\n",
      "food          3.712248\n",
      "love          3.339307\n",
      "meat          3.274016\n",
      "kbbq          3.122774\n",
      "amazing       2.719666\n",
      "definitely    2.700042\n",
      "dtype: float64\n"
     ]
    }
   ],
   "source": [
    "# find most important words\n",
    "high_df_words = tfidf_df_6.sum().sort_values(ascending=False).head(10)\n",
    "print (high_df_words)"
   ]
  },
  {
   "cell_type": "markdown",
   "metadata": {
    "id": "eZCDCNNCe3qo"
   },
   "source": [
    "3. Moodaepo - 3.3 stars"
   ]
  },
  {
   "cell_type": "code",
   "execution_count": null,
   "metadata": {
    "colab": {
     "base_uri": "https://localhost:8080/"
    },
    "id": "UeP03daSfGev",
    "outputId": "d59a14ac-9371-4e28-a37a-0328a9f3abe3"
   },
   "outputs": [
    {
     "name": "stdout",
     "output_type": "stream",
     "text": [
      "     10  1000  10000  1030  105am     1130m      11am   12    1210am  124  \\\n",
      "0   0.0   0.0    0.0   0.0    0.0  0.000000  0.000000  0.0  0.000000  0.0   \n",
      "1   0.0   0.0    0.0   0.0    0.0  0.000000  0.000000  0.0  0.000000  0.0   \n",
      "2   0.0   0.0    0.0   0.0    0.0  0.000000  0.000000  0.0  0.000000  0.0   \n",
      "3   0.0   0.0    0.0   0.0    0.0  0.192614  0.192614  0.0  0.192614  0.0   \n",
      "4   0.0   0.0    0.0   0.0    0.0  0.000000  0.000000  0.0  0.000000  0.0   \n",
      "..  ...   ...    ...   ...    ...       ...       ...  ...       ...  ...   \n",
      "81  0.0   0.0    0.0   0.0    0.0  0.000000  0.000000  0.0  0.000000  0.0   \n",
      "82  0.0   0.0    0.0   0.0    0.0  0.000000  0.000000  0.0  0.000000  0.0   \n",
      "83  0.0   0.0    0.0   0.0    0.0  0.000000  0.000000  0.0  0.000000  0.0   \n",
      "84  0.0   0.0    0.0   0.0    0.0  0.000000  0.000000  0.0  0.000000  0.0   \n",
      "85  0.0   0.0    0.0   0.0    0.0  0.000000  0.000000  0.0  0.000000  0.0   \n",
      "\n",
      "    ...  yall  year    years  yes  youll  younger     youre  yourselfoverall  \\\n",
      "0   ...   0.0   0.0  0.00000  0.0    0.0      0.0  0.000000              0.0   \n",
      "1   ...   0.0   0.0  0.00000  0.0    0.0      0.0  0.069905              0.0   \n",
      "2   ...   0.0   0.0  0.00000  0.0    0.0      0.0  0.000000              0.0   \n",
      "3   ...   0.0   0.0  0.00000  0.0    0.0      0.0  0.000000              0.0   \n",
      "4   ...   0.0   0.0  0.00000  0.0    0.0      0.0  0.000000              0.0   \n",
      "..  ...   ...   ...      ...  ...    ...      ...       ...              ...   \n",
      "81  ...   0.0   0.0  0.00000  0.0    0.0      0.0  0.000000              0.0   \n",
      "82  ...   0.0   0.0  0.00000  0.0    0.0      0.0  0.000000              0.0   \n",
      "83  ...   0.0   0.0  0.18722  0.0    0.0      0.0  0.000000              0.0   \n",
      "84  ...   0.0   0.0  0.00000  0.0    0.0      0.0  0.000000              0.0   \n",
      "85  ...   0.0   0.0  0.00000  0.0    0.0      0.0  0.000000              0.0   \n",
      "\n",
      "    yummy  zoom  \n",
      "0     0.0   0.0  \n",
      "1     0.0   0.0  \n",
      "2     0.0   0.0  \n",
      "3     0.0   0.0  \n",
      "4     0.0   0.0  \n",
      "..    ...   ...  \n",
      "81    0.0   0.0  \n",
      "82    0.0   0.0  \n",
      "83    0.0   0.0  \n",
      "84    0.0   0.0  \n",
      "85    0.0   0.0  \n",
      "\n",
      "[86 rows x 1107 columns]\n"
     ]
    }
   ],
   "source": [
    "# specify column\n",
    "column_7 = 'Moodaepo - 3.3 Stars'\n",
    "\n",
    "df[column_7] = df[column_7].apply(text_clean)\n",
    "\n",
    "# unecessary words\n",
    "tfidf_vectorizer_7 = TfidfVectorizer(stop_words='english')\n",
    "\n",
    "# specify column in matrix\n",
    "tfidf_matrix_7 = tfidf_vectorizer_7.fit_transform(df[column_7])\n",
    "\n",
    "# create tfidf matrix\n",
    "tfidf_df_7 = pd.DataFrame(tfidf_matrix_7.toarray(), columns=tfidf_vectorizer_7.get_feature_names_out())\n",
    "print (tfidf_df_7)"
   ]
  },
  {
   "cell_type": "code",
   "execution_count": null,
   "metadata": {
    "colab": {
     "base_uri": "https://localhost:8080/"
    },
    "id": "AXzigbE-fjA3",
    "outputId": "ddc3e831-9fd0-4de5-e74a-ca9d9c54bd21"
   },
   "outputs": [
    {
     "name": "stdout",
     "output_type": "stream",
     "text": [
      "service    5.828416\n",
      "great      5.066530\n",
      "good       5.011733\n",
      "food       4.864553\n",
      "place      3.947389\n",
      "kbbq       3.161935\n",
      "meat       3.024160\n",
      "come       2.550899\n",
      "time       2.306174\n",
      "amazing    2.247147\n",
      "dtype: float64\n"
     ]
    }
   ],
   "source": [
    "# find most important words\n",
    "high_df_words = tfidf_df_7.sum().sort_values(ascending=False).head(10)\n",
    "print (high_df_words)"
   ]
  },
  {
   "cell_type": "markdown",
   "metadata": {
    "id": "xqGfl3_NfIvN"
   },
   "source": [
    "4. Bud Namu Korean BBQ - 3.3 stars"
   ]
  },
  {
   "cell_type": "code",
   "execution_count": null,
   "metadata": {
    "colab": {
     "base_uri": "https://localhost:8080/"
    },
    "id": "W09Q9EOMfoKl",
    "outputId": "602727dd-58fb-42f8-822a-c66bc0702be4"
   },
   "outputs": [
    {
     "name": "stdout",
     "output_type": "stream",
     "text": [
      "     10  100  1000010  100010      1010  1010pm  1010service  1010staff  11am  \\\n",
      "0   0.0  0.0      0.0     0.0  0.000000     0.0     0.156219   0.156219   0.0   \n",
      "1   0.0  0.0      0.0     0.0  0.069577     0.0     0.000000   0.000000   0.0   \n",
      "2   0.0  0.0      0.0     0.0  0.000000     0.0     0.000000   0.000000   0.0   \n",
      "3   0.0  0.0      0.0     0.0  0.000000     0.0     0.000000   0.000000   0.0   \n",
      "4   0.0  0.0      0.0     0.0  0.000000     0.0     0.000000   0.000000   0.0   \n",
      "..  ...  ...      ...     ...       ...     ...          ...        ...   ...   \n",
      "80  0.0  0.0      0.0     0.0  0.000000     0.0     0.000000   0.000000   0.0   \n",
      "81  0.0  0.0      0.0     0.0  0.000000     0.0     0.000000   0.000000   0.0   \n",
      "82  0.0  0.0      0.0     0.0  0.000000     0.0     0.000000   0.000000   0.0   \n",
      "83  0.0  0.0      0.0     0.0  0.000000     0.0     0.000000   0.000000   0.0   \n",
      "84  0.0  0.0      0.0     0.0  0.000000     0.0     0.000000   0.000000   0.0   \n",
      "\n",
      "     12  ...       wow   writing  wuick     years  yesterday  younger  \\\n",
      "0   0.0  ...  0.000000  0.000000    0.0  0.000000    0.00000      0.0   \n",
      "1   0.0  ...  0.081432  0.000000    0.0  0.057722    0.00000      0.0   \n",
      "2   0.0  ...  0.000000  0.000000    0.0  0.000000    0.00000      0.0   \n",
      "3   0.0  ...  0.000000  0.000000    0.0  0.000000    0.00000      0.0   \n",
      "4   0.0  ...  0.000000  0.000000    0.0  0.000000    0.00000      0.0   \n",
      "..  ...  ...       ...       ...    ...       ...        ...      ...   \n",
      "80  0.0  ...  0.000000  0.000000    0.0  0.000000    0.00000      0.0   \n",
      "81  0.0  ...  0.000000  0.000000    0.0  0.000000    0.00000      0.0   \n",
      "82  0.0  ...  0.000000  0.000000    0.0  0.000000    0.00000      0.0   \n",
      "83  0.0  ...  0.000000  0.000000    0.0  0.000000    0.00000      0.0   \n",
      "84  0.0  ...  0.000000  0.113255    0.0  0.000000    0.10361      0.0   \n",
      "\n",
      "       youre  yummy  zelle      zero  \n",
      "0   0.000000    0.0    0.0  0.000000  \n",
      "1   0.000000    0.0    0.0  0.081432  \n",
      "2   0.056544    0.0    0.0  0.000000  \n",
      "3   0.000000    0.0    0.0  0.000000  \n",
      "4   0.000000    0.0    0.0  0.000000  \n",
      "..       ...    ...    ...       ...  \n",
      "80  0.000000    0.0    0.0  0.000000  \n",
      "81  0.000000    0.0    0.0  0.000000  \n",
      "82  0.000000    0.0    0.0  0.000000  \n",
      "83  0.000000    0.0    0.0  0.000000  \n",
      "84  0.000000    0.0    0.0  0.000000  \n",
      "\n",
      "[85 rows x 971 columns]\n"
     ]
    }
   ],
   "source": [
    "# specify column\n",
    "column_8 = 'Bud Namu Korean BBQ - 3.3 Stars'\n",
    "\n",
    "df[column_8] = df[column_8].apply(text_clean)\n",
    "\n",
    "#language\n",
    "# df[column_8] = df[column_8].apply(lambda x: x if (len(x) > 0 and detect(x) == 'en') else '')\n",
    "df = df[df[column_8].map(lambda x: x.isascii())]\n",
    "# df = df[df[column_8] != '']\n",
    "\n",
    "# unecessary words\n",
    "tfidf_vectorizer_8 = TfidfVectorizer(stop_words='english')\n",
    "\n",
    "# specify column in matrix\n",
    "tfidf_matrix_8 = tfidf_vectorizer_8.fit_transform(df[column_8])\n",
    "\n",
    "# create tfidf matrix\n",
    "tfidf_df_8 = pd.DataFrame(tfidf_matrix_8.toarray(), columns=tfidf_vectorizer_8.get_feature_names_out())\n",
    "print (tfidf_df_8)"
   ]
  },
  {
   "cell_type": "code",
   "execution_count": null,
   "metadata": {
    "colab": {
     "base_uri": "https://localhost:8080/"
    },
    "id": "7JDJOs3TfqyO",
    "outputId": "22531760-451a-46d7-e218-edc729032c9e"
   },
   "outputs": [
    {
     "name": "stdout",
     "output_type": "stream",
     "text": [
      "good         6.179572\n",
      "food         5.369545\n",
      "place        5.240888\n",
      "service      4.925730\n",
      "great        4.411908\n",
      "kbbq         3.801345\n",
      "meat         3.246334\n",
      "love         3.181275\n",
      "bar          2.999131\n",
      "recommend    2.877383\n",
      "dtype: float64\n"
     ]
    }
   ],
   "source": [
    "# find most important words\n",
    "high_df_words = tfidf_df_8.sum().sort_values(ascending=False).head(10)\n",
    "print (high_df_words)"
   ]
  },
  {
   "cell_type": "markdown",
   "metadata": {
    "id": "zpbtd8uxfwW9"
   },
   "source": [
    "5. MOON BBQ 2 - 3.0 stars"
   ]
  },
  {
   "cell_type": "code",
   "execution_count": null,
   "metadata": {
    "colab": {
     "base_uri": "https://localhost:8080/"
    },
    "id": "IVNvAKskfy-c",
    "outputId": "e22deea5-e897-43b7-b029-d43975b803f2"
   },
   "outputs": [
    {
     "name": "stdout",
     "output_type": "stream",
     "text": [
      "    00s   02       10  100  101  1010  1015  1030      1099  1099per  ...  \\\n",
      "0   0.0  0.0  0.00000  0.0  0.0   0.0   0.0   0.0  0.000000      0.0  ...   \n",
      "1   0.0  0.0  0.00000  0.0  0.0   0.0   0.0   0.0  0.000000      0.0  ...   \n",
      "2   0.0  0.0  0.00000  0.0  0.0   0.0   0.0   0.0  0.000000      0.0  ...   \n",
      "3   0.0  0.0  0.14123  0.0  0.0   0.0   0.0   0.0  0.000000      0.0  ...   \n",
      "4   0.0  0.0  0.00000  0.0  0.0   0.0   0.0   0.0  0.000000      0.0  ...   \n",
      "..  ...  ...      ...  ...  ...   ...   ...   ...       ...      ...  ...   \n",
      "80  0.0  0.0  0.00000  0.0  0.0   0.0   0.0   0.0  0.000000      0.0  ...   \n",
      "81  0.0  0.0  0.00000  0.0  0.0   0.0   0.0   0.0  0.086325      0.0  ...   \n",
      "82  0.0  0.0  0.07839  0.0  0.0   0.0   0.0   0.0  0.094490      0.0  ...   \n",
      "83  0.0  0.0  0.00000  0.0  0.0   0.0   0.0   0.0  0.000000      0.0  ...   \n",
      "84  0.0  0.0  0.00000  0.0  0.0   0.0   0.0   0.0  0.000000      0.0  ...   \n",
      "\n",
      "     yo  youd  young     youre  youthe  yum  yummy  yummy8  zero  zone  \n",
      "0   0.0   0.0    0.0  0.105622     0.0  0.0    0.0     0.0   0.0   0.0  \n",
      "1   0.0   0.0    0.0  0.000000     0.0  0.0    0.0     0.0   0.0   0.0  \n",
      "2   0.0   0.0    0.0  0.000000     0.0  0.0    0.0     0.0   0.0   0.0  \n",
      "3   0.0   0.0    0.0  0.114924     0.0  0.0    0.0     0.0   0.0   0.0  \n",
      "4   0.0   0.0    0.0  0.000000     0.0  0.0    0.0     0.0   0.0   0.0  \n",
      "..  ...   ...    ...       ...     ...  ...    ...     ...   ...   ...  \n",
      "80  0.0   0.0    0.0  0.057563     0.0  0.0    0.0     0.0   0.0   0.0  \n",
      "81  0.0   0.0    0.0  0.000000     0.0  0.0    0.0     0.0   0.0   0.0  \n",
      "82  0.0   0.0    0.0  0.000000     0.0  0.0    0.0     0.0   0.0   0.0  \n",
      "83  0.0   0.0    0.0  0.000000     0.0  0.0    0.0     0.0   0.0   0.0  \n",
      "84  0.0   0.0    0.0  0.000000     0.0  0.0    0.0     0.0   0.0   0.0  \n",
      "\n",
      "[85 rows x 1384 columns]\n"
     ]
    }
   ],
   "source": [
    "# specify column\n",
    "column_9 = 'MOON BBQ 2 - 3.0 Stars'\n",
    "\n",
    "df[column_9] = df[column_9].apply(text_clean)\n",
    "\n",
    "# unecessary words\n",
    "tfidf_vectorizer_9 = TfidfVectorizer(stop_words='english')\n",
    "\n",
    "# specify column in matrix\n",
    "tfidf_matrix_9 = tfidf_vectorizer_9.fit_transform(df[column_9])\n",
    "\n",
    "# create tfidf matrix\n",
    "tfidf_df_9 = pd.DataFrame(tfidf_matrix_9.toarray(), columns=tfidf_vectorizer_9.get_feature_names_out())\n",
    "print (tfidf_df_9)"
   ]
  },
  {
   "cell_type": "code",
   "execution_count": null,
   "metadata": {
    "colab": {
     "base_uri": "https://localhost:8080/"
    },
    "id": "ZTJcLmLSf0XS",
    "outputId": "6eb4ce9f-9169-438b-8afa-2db623d8f2cc"
   },
   "outputs": [
    {
     "name": "stdout",
     "output_type": "stream",
     "text": [
      "good       4.730585\n",
      "great      4.109467\n",
      "place      3.902826\n",
      "service    3.779347\n",
      "food       3.589228\n",
      "like       3.066601\n",
      "meat       3.001074\n",
      "parking    2.891753\n",
      "kbbq       2.876257\n",
      "just       2.740798\n",
      "dtype: float64\n"
     ]
    }
   ],
   "source": [
    "# find most important words\n",
    "high_df_words = tfidf_df_9.sum().sort_values(ascending=False).head(10)\n",
    "print (high_df_words)"
   ]
  },
  {
   "cell_type": "markdown",
   "metadata": {
    "id": "dDt-xs8Af5UV"
   },
   "source": [
    "Most important words for higher rated restaurants"
   ]
  },
  {
   "cell_type": "code",
   "execution_count": null,
   "metadata": {
    "colab": {
     "base_uri": "https://localhost:8080/"
    },
    "id": "uAIEKAqLf8HR",
    "outputId": "2f67787c-115e-4134-8229-a94a0626bade"
   },
   "outputs": [
    {
     "name": "stdout",
     "output_type": "stream",
     "text": [
      "     10  100  1030pm  1099   11      11am   12  1299  1299person      12pm  \\\n",
      "0   0.0  0.0     0.0   0.0  0.0  0.000000  0.0   0.0         0.0  0.000000   \n",
      "1   0.0  0.0     0.0   0.0  0.0  0.000000  0.0   0.0         0.0  0.000000   \n",
      "2   0.0  0.0     0.0   0.0  0.0  0.000000  0.0   0.0         0.0  0.000000   \n",
      "3   0.0  0.0     0.0   0.0  0.0  0.146733  0.0   0.0         0.0  0.146733   \n",
      "4   0.0  0.0     0.0   0.0  0.0  0.000000  0.0   0.0         0.0  0.000000   \n",
      "..  ...  ...     ...   ...  ...       ...  ...   ...         ...       ...   \n",
      "80  0.0  0.0     0.0   0.0  0.0  0.000000  0.0   0.0         0.0  0.000000   \n",
      "81  0.0  0.0     0.0   0.0  0.0  0.000000  0.0   0.0         0.0  0.000000   \n",
      "82  0.0  0.0     0.0   0.0  0.0  0.000000  0.0   0.0         0.0  0.000000   \n",
      "83  0.0  0.0     0.0   0.0  0.0  0.000000  0.0   0.0         0.0  0.000000   \n",
      "84  0.0  0.0     0.0   0.0  0.0  0.000000  0.0   0.0         0.0  0.000000   \n",
      "\n",
      "    ...  yes  yikes  youll  young  younger  youre  youthe  yukgaejang  yum  \\\n",
      "0   ...  0.0    0.0    0.0    0.0      0.0    0.0     0.0         0.0  0.0   \n",
      "1   ...  0.0    0.0    0.0    0.0      0.0    0.0     0.0         0.0  0.0   \n",
      "2   ...  0.0    0.0    0.0    0.0      0.0    0.0     0.0         0.0  0.0   \n",
      "3   ...  0.0    0.0    0.0    0.0      0.0    0.0     0.0         0.0  0.0   \n",
      "4   ...  0.0    0.0    0.0    0.0      0.0    0.0     0.0         0.0  0.0   \n",
      "..  ...  ...    ...    ...    ...      ...    ...     ...         ...  ...   \n",
      "80  ...  0.0    0.0    0.0    0.0      0.0    0.0     0.0         0.0  0.0   \n",
      "81  ...  0.0    0.0    0.0    0.0      0.0    0.0     0.0         0.0  0.0   \n",
      "82  ...  0.0    0.0    0.0    0.0      0.0    0.0     0.0         0.0  0.0   \n",
      "83  ...  0.0    0.0    0.0    0.0      0.0    0.0     0.0         0.0  0.0   \n",
      "84  ...  0.0    0.0    0.0    0.0      0.0    0.0     0.0         0.0  0.0   \n",
      "\n",
      "    yummy  \n",
      "0     0.0  \n",
      "1     0.0  \n",
      "2     0.0  \n",
      "3     0.0  \n",
      "4     0.0  \n",
      "..    ...  \n",
      "80    0.0  \n",
      "81    0.0  \n",
      "82    0.0  \n",
      "83    0.0  \n",
      "84    0.0  \n",
      "\n",
      "[85 rows x 1380 columns]\n"
     ]
    }
   ],
   "source": [
    "# specify column\n",
    "higher_columns = df.columns[5]\n",
    "\n",
    "#language\n",
    "df = df[df[higher_columns].map(lambda x: x.isascii())]\n",
    "\n",
    "# clean\n",
    "df[higher_columns] = df[higher_columns].apply(text_clean)\n",
    "\n",
    "# unecessary words\n",
    "tfidf_vectorizer_high = TfidfVectorizer(stop_words='english')\n",
    "\n",
    "# specify column in matrix\n",
    "tfidf_matrix_high = tfidf_vectorizer_high.fit_transform(df[higher_columns])\n",
    "\n",
    "# create tfidf matrix\n",
    "tfidf_df_high = pd.DataFrame(tfidf_matrix_high.toarray(), columns=tfidf_vectorizer_high.get_feature_names_out())\n",
    "print (tfidf_df_high)"
   ]
  },
  {
   "cell_type": "code",
   "execution_count": null,
   "metadata": {
    "colab": {
     "base_uri": "https://localhost:8080/"
    },
    "id": "yq0E0d0kf9jq",
    "outputId": "6c756e90-3652-4009-e1ab-93b8483295c9"
   },
   "outputs": [
    {
     "name": "stdout",
     "output_type": "stream",
     "text": [
      "place      4.167872\n",
      "good       4.150508\n",
      "food       3.841070\n",
      "service    3.788404\n",
      "meat       3.609929\n",
      "great      2.889844\n",
      "parking    2.836811\n",
      "quality    2.429050\n",
      "time       2.420992\n",
      "come       2.346851\n",
      "dtype: float64\n"
     ]
    }
   ],
   "source": [
    "# find most important words\n",
    "lower_columns = tfidf_df_high.sum().sort_values(ascending=False).head(10)\n",
    "print (lower_columns)"
   ]
  },
  {
   "cell_type": "markdown",
   "metadata": {
    "id": "hKpYPXsOg9qJ"
   },
   "source": [
    "### Sentiment Analysis"
   ]
  },
  {
   "cell_type": "markdown",
   "metadata": {
    "id": "XNT28D-rg_al"
   },
   "source": [
    "1. Hanu Korean BBQ - 4.8 stars"
   ]
  },
  {
   "cell_type": "code",
   "execution_count": null,
   "metadata": {
    "id": "uGJS699zhAjr"
   },
   "outputs": [],
   "source": [
    "import nltk\n",
    "nltk.download('punkt')\n",
    "nltk.download('wordnet')\n",
    "nltk.download('vader_lexicon')\n",
    "from nltk.sentiment import SentimentIntensityAnalyzer\n",
    "from nltk.stem import WordNetLemmatizer\n",
    "from sklearn.feature_extraction.text import TfidfVectorizer\n",
    "\n",
    "# set column\n",
    "data = df[['Hanu Korean BBQ - 4.8 Stars']]\n",
    "\n",
    "data = df.dropna()\n",
    "data = df.reset_index(drop=True)\n",
    "\n",
    "# clean data\n",
    "data['Hanu Korean BBQ - 4.8 Stars'] = data['Hanu Korean BBQ - 4.8 Stars'].apply(lambda x: ' '.join(x.lower() for x in str(x).split()))\n",
    "\n",
    "# contractions\n",
    "def expand_contractions(s):\n",
    "    s = re.sub(r\"won’t\", \"will not\", s)\n",
    "    s = re.sub(r\"wouldn’t\", \"would not\", s)\n",
    "    s = re.sub(r\"couldn’t\", \"could not\", s)\n",
    "    s = re.sub(r\"can’t\", \"can not\", s)\n",
    "    s = re.sub(r\"n’t\", \" not\", s)\n",
    "    return s\n",
    "\n",
    "# expand\n",
    "data['Hanu Korean BBQ - 4.8 Stars']=data['Hanu Korean BBQ - 4.8 Stars'].apply(lambda x:expand_contractions(x))\n",
    "\n",
    "# remove non alphabetical characters\n",
    "data['Hanu Korean BBQ - 4.8 Stars'] = data['Hanu Korean BBQ - 4.8 Stars'].apply(lambda x: \" \".join([re.sub('[^A-Za-z]+', '', x) for x in nltk.word_tokenize(x)]))\n",
    "\n",
    "# remove stop words\n",
    "tfidf_vectorizer = TfidfVectorizer(stop_words='english')\n",
    "tfidf_matrix = tfidf_vectorizer.fit_transform(data['Hanu Korean BBQ - 4.8 Stars'])\n",
    "feature_names = tfidf_vectorizer.get_feature_names_out()\n",
    "\n",
    "# group similar words\n",
    "lemmatizer = WordNetLemmatizer()\n",
    "data['Hanu Korean BBQ - 4.8 Stars'] = data['Hanu Korean BBQ - 4.8 Stars'].apply(lambda x: \" \".join([lemmatizer.lemmatize(w) for w in nltk.word_tokenize(str(x))]))\n",
    "\n",
    "# print(data['Hanu Korean BBQ - 4.8 Stars'])\n",
    "\n",
    "sia = SentimentIntensityAnalyzer()\n",
    "data['Sentiment'] = data['Hanu Korean BBQ - 4.8 Stars'].apply(lambda x: sia.polarity_scores(x)['compound'])\n",
    "\n",
    "# print(data[['Hanu Korean BBQ - 4.8 Stars', 'Sentiment']])\n",
    "\n",
    "print (data['Sentiment'].mean())"
   ]
  },
  {
   "cell_type": "markdown",
   "metadata": {
    "id": "-ctchH9ZhLBv"
   },
   "source": [
    "2. Prime K BBQ - 4.8 stars"
   ]
  },
  {
   "cell_type": "code",
   "execution_count": null,
   "metadata": {
    "id": "T61mAVLMhQre"
   },
   "outputs": [],
   "source": [
    "# set column\n",
    "data = df[['Prime K BBQ - 4.8 Stars']]\n",
    "\n",
    "data = df.dropna()\n",
    "data = df.reset_index(drop=True)\n",
    "\n",
    "# clean data\n",
    "data['Prime K BBQ - 4.8 Stars'] = data['Prime K BBQ - 4.8 Stars'].apply(lambda x: ' '.join(x.lower() for x in str(x).split()))\n",
    "\n",
    "# contractions\n",
    "def expand_contractions(s):\n",
    "    s = re.sub(r\"won’t\", \"will not\", s)\n",
    "    s = re.sub(r\"wouldn’t\", \"would not\", s)\n",
    "    s = re.sub(r\"couldn’t\", \"could not\", s)\n",
    "    s = re.sub(r\"can’t\", \"can not\", s)\n",
    "    s = re.sub(r\"n’t\", \" not\", s)\n",
    "    return s\n",
    "\n",
    "# expand\n",
    "data['Prime K BBQ - 4.8 Stars']=data['Prime K BBQ - 4.8 Stars'].apply(lambda x:expand_contractions(x))\n",
    "\n",
    "# remove non alphabetical characters\n",
    "data['Prime K BBQ - 4.8 Stars'] = data['Prime K BBQ - 4.8 Stars'].apply(lambda x: \" \".join([re.sub('[^A-Za-z]+', '', x) for x in nltk.word_tokenize(x)]))\n",
    "\n",
    "# remove stop words\n",
    "tfidf_vectorizer = TfidfVectorizer(stop_words='english')\n",
    "tfidf_matrix = tfidf_vectorizer.fit_transform(data['Prime K BBQ - 4.8 Stars'])\n",
    "feature_names = tfidf_vectorizer.get_feature_names_out()\n",
    "\n",
    "# group similar words\n",
    "lemmatizer = WordNetLemmatizer()\n",
    "data['Prime K BBQ - 4.8 Stars'] = data['Prime K BBQ - 4.8 Stars'].apply(lambda x: \" \".join([lemmatizer.lemmatize(w) for w in nltk.word_tokenize(str(x))]))\n",
    "\n",
    "# print(data['Hanu Korean BBQ - 4.8 Stars'])\n",
    "\n",
    "sia = SentimentIntensityAnalyzer()\n",
    "data['Sentiment'] = data['Prime K BBQ - 4.8 Stars'].apply(lambda x: sia.polarity_scores(x)['compound'])\n",
    "\n",
    "# print(data[['Hanu Korean BBQ - 4.8 Stars', 'Sentiment']])\n",
    "\n",
    "print (data['Sentiment'].mean())"
   ]
  },
  {
   "cell_type": "markdown",
   "metadata": {
    "id": "c1miI5EghT17"
   },
   "source": [
    "3. King Chang LA - 4.8 stars"
   ]
  },
  {
   "cell_type": "code",
   "execution_count": null,
   "metadata": {
    "id": "Fkal_dkLhY1M"
   },
   "outputs": [],
   "source": [
    "# set column\n",
    "data = df[['King Chang LA - 4.8 Stars']]\n",
    "\n",
    "data = df.dropna()\n",
    "data = df.reset_index(drop=True)\n",
    "\n",
    "# clean data\n",
    "data['King Chang LA - 4.8 Stars'] = data['King Chang LA - 4.8 Stars'].apply(lambda x: ' '.join(x.lower() for x in str(x).split()))\n",
    "\n",
    "# contractions\n",
    "def expand_contractions(s):\n",
    "    s = re.sub(r\"won’t\", \"will not\", s)\n",
    "    s = re.sub(r\"wouldn’t\", \"would not\", s)\n",
    "    s = re.sub(r\"couldn’t\", \"could not\", s)\n",
    "    s = re.sub(r\"can’t\", \"can not\", s)\n",
    "    s = re.sub(r\"n’t\", \" not\", s)\n",
    "    return s\n",
    "\n",
    "# expand\n",
    "data['King Chang LA - 4.8 Stars']=data['King Chang LA - 4.8 Stars'].apply(lambda x:expand_contractions(x))\n",
    "\n",
    "# remove non alphabetical characters\n",
    "data['King Chang LA - 4.8 Stars'] = data['King Chang LA - 4.8 Stars'].apply(lambda x: \" \".join([re.sub('[^A-Za-z]+', '', x) for x in nltk.word_tokenize(x)]))\n",
    "\n",
    "# remove stop words\n",
    "tfidf_vectorizer = TfidfVectorizer(stop_words='english')\n",
    "tfidf_matrix = tfidf_vectorizer.fit_transform(data['King Chang LA - 4.8 Stars'])\n",
    "feature_names = tfidf_vectorizer.get_feature_names_out()\n",
    "\n",
    "# group similar words\n",
    "lemmatizer = WordNetLemmatizer()\n",
    "data['King Chang LA - 4.8 Stars'] = data['King Chang LA - 4.8 Stars'].apply(lambda x: \" \".join([lemmatizer.lemmatize(w) for w in nltk.word_tokenize(str(x))]))\n",
    "\n",
    "# print(data['Hanu Korean BBQ - 4.8 Stars'])\n",
    "\n",
    "sia = SentimentIntensityAnalyzer()\n",
    "data['Sentiment'] = data['King Chang LA - 4.8 Stars'].apply(lambda x: sia.polarity_scores(x)['compound'])\n",
    "\n",
    "# print(data[['Hanu Korean BBQ - 4.8 Stars', 'Sentiment']])\n",
    "\n",
    "print (data['Sentiment'].mean())"
   ]
  },
  {
   "cell_type": "markdown",
   "metadata": {
    "id": "dzzE8uQehcCg"
   },
   "source": [
    "4. PZK BBQ - 4.7 stars"
   ]
  },
  {
   "cell_type": "code",
   "execution_count": null,
   "metadata": {
    "id": "hxz0PLpMhe6m"
   },
   "outputs": [],
   "source": [
    "# set column\n",
    "data = df[['PZK BBQ - 4.7 Stars']]\n",
    "\n",
    "data = df.dropna()\n",
    "data = df.reset_index(drop=True)\n",
    "\n",
    "# clean data\n",
    "data['PZK BBQ - 4.7 Stars'] = data['PZK BBQ - 4.7 Stars'].apply(lambda x: ' '.join(x.lower() for x in str(x).split()))\n",
    "\n",
    "# contractions\n",
    "def expand_contractions(s):\n",
    "    s = re.sub(r\"won’t\", \"will not\", s)\n",
    "    s = re.sub(r\"wouldn’t\", \"would not\", s)\n",
    "    s = re.sub(r\"couldn’t\", \"could not\", s)\n",
    "    s = re.sub(r\"can’t\", \"can not\", s)\n",
    "    s = re.sub(r\"n’t\", \" not\", s)\n",
    "    return s\n",
    "\n",
    "# expand\n",
    "data['PZK BBQ - 4.7 Stars']=data['PZK BBQ - 4.7 Stars'].apply(lambda x:expand_contractions(x))\n",
    "\n",
    "# remove non alphabetical characters\n",
    "data['PZK BBQ - 4.7 Stars'] = data['PZK BBQ - 4.7 Stars'].apply(lambda x: \" \".join([re.sub('[^A-Za-z]+', '', x) for x in nltk.word_tokenize(x)]))\n",
    "\n",
    "# remove stop words\n",
    "tfidf_vectorizer = TfidfVectorizer(stop_words='english')\n",
    "tfidf_matrix = tfidf_vectorizer.fit_transform(data['PZK BBQ - 4.7 Stars'])\n",
    "feature_names = tfidf_vectorizer.get_feature_names_out()\n",
    "\n",
    "# group similar words\n",
    "lemmatizer = WordNetLemmatizer()\n",
    "data['PZK BBQ - 4.7 Stars'] = data['PZK BBQ - 4.7 Stars'].apply(lambda x: \" \".join([lemmatizer.lemmatize(w) for w in nltk.word_tokenize(str(x))]))\n",
    "\n",
    "# print(data['Hanu Korean BBQ - 4.8 Stars'])\n",
    "\n",
    "sia = SentimentIntensityAnalyzer()\n",
    "data['Sentiment'] = data['PZK BBQ - 4.7 Stars'].apply(lambda x: sia.polarity_scores(x)['compound'])\n",
    "\n",
    "# print(data[['Hanu Korean BBQ - 4.8 Stars', 'Sentiment']])\n",
    "\n",
    "print (data['Sentiment'].mean())"
   ]
  },
  {
   "cell_type": "markdown",
   "metadata": {
    "id": "PtYis_8zhhDt"
   },
   "source": [
    "5. Woo Hyang Woo - 4.6 stars"
   ]
  },
  {
   "cell_type": "code",
   "execution_count": null,
   "metadata": {
    "id": "H6ViTkrkhkGc"
   },
   "outputs": [],
   "source": [
    "# set column\n",
    "data = df[['Woo Hyang Woo - 4.6 Stars']]\n",
    "\n",
    "data = df.dropna()\n",
    "data = df.reset_index(drop=True)\n",
    "\n",
    "# clean data\n",
    "data['Woo Hyang Woo - 4.6 Stars'] = data['Woo Hyang Woo - 4.6 Stars'].apply(lambda x: ' '.join(x.lower() for x in str(x).split()))\n",
    "\n",
    "# contractions\n",
    "def expand_contractions(s):\n",
    "    s = re.sub(r\"won’t\", \"will not\", s)\n",
    "    s = re.sub(r\"wouldn’t\", \"would not\", s)\n",
    "    s = re.sub(r\"couldn’t\", \"could not\", s)\n",
    "    s = re.sub(r\"can’t\", \"can not\", s)\n",
    "    s = re.sub(r\"n’t\", \" not\", s)\n",
    "    return s\n",
    "\n",
    "# expand\n",
    "data['Woo Hyang Woo - 4.6 Stars']=data['Woo Hyang Woo - 4.6 Stars'].apply(lambda x:expand_contractions(x))\n",
    "\n",
    "# remove non alphabetical characters\n",
    "data['Woo Hyang Woo - 4.6 Stars'] = data['Woo Hyang Woo - 4.6 Stars'].apply(lambda x: \" \".join([re.sub('[^A-Za-z]+', '', x) for x in nltk.word_tokenize(x)]))\n",
    "\n",
    "# remove stop words\n",
    "tfidf_vectorizer = TfidfVectorizer(stop_words='english')\n",
    "tfidf_matrix = tfidf_vectorizer.fit_transform(data['Woo Hyang Woo - 4.6 Stars'])\n",
    "feature_names = tfidf_vectorizer.get_feature_names_out()\n",
    "\n",
    "# group similar words\n",
    "lemmatizer = WordNetLemmatizer()\n",
    "data['Woo Hyang Woo - 4.6 Stars'] = data['Woo Hyang Woo - 4.6 Stars'].apply(lambda x: \" \".join([lemmatizer.lemmatize(w) for w in nltk.word_tokenize(str(x))]))\n",
    "\n",
    "# print(data['Hanu Korean BBQ - 4.8 Stars'])\n",
    "\n",
    "sia = SentimentIntensityAnalyzer()\n",
    "data['Sentiment'] = data['Woo Hyang Woo - 4.6 Stars'].apply(lambda x: sia.polarity_scores(x)['compound'])\n",
    "\n",
    "# print(data[['Hanu Korean BBQ - 4.8 Stars', 'Sentiment']])\n",
    "\n",
    "print (data['Sentiment'].mean())"
   ]
  },
  {
   "cell_type": "markdown",
   "metadata": {
    "id": "pxr7PcAOhmmW"
   },
   "source": [
    "6. J BBQ - 3.6 stars"
   ]
  },
  {
   "cell_type": "code",
   "execution_count": null,
   "metadata": {
    "id": "htuxGLrnhpn2"
   },
   "outputs": [],
   "source": [
    "# set column\n",
    "data = df[['J BBQ - 3.6 Stars']]\n",
    "\n",
    "data = df.dropna()\n",
    "data = df.reset_index(drop=True)\n",
    "\n",
    "# clean data\n",
    "data['J BBQ - 3.6 Stars'] = data['J BBQ - 3.6 Stars'].apply(lambda x: ' '.join(x.lower() for x in str(x).split()))\n",
    "\n",
    "# contractions\n",
    "def expand_contractions(s):\n",
    "    s = re.sub(r\"won’t\", \"will not\", s)\n",
    "    s = re.sub(r\"wouldn’t\", \"would not\", s)\n",
    "    s = re.sub(r\"couldn’t\", \"could not\", s)\n",
    "    s = re.sub(r\"can’t\", \"can not\", s)\n",
    "    s = re.sub(r\"n’t\", \" not\", s)\n",
    "    return s\n",
    "\n",
    "# expand\n",
    "data['J BBQ - 3.6 Stars']=data['J BBQ - 3.6 Stars'].apply(lambda x:expand_contractions(x))\n",
    "\n",
    "# remove non alphabetical characters\n",
    "data['J BBQ - 3.6 Stars'] = data['J BBQ - 3.6 Stars'].apply(lambda x: \" \".join([re.sub('[^A-Za-z]+', '', x) for x in nltk.word_tokenize(x)]))\n",
    "\n",
    "# remove stop words\n",
    "tfidf_vectorizer = TfidfVectorizer(stop_words='english')\n",
    "tfidf_matrix = tfidf_vectorizer.fit_transform(data['J BBQ - 3.6 Stars'])\n",
    "feature_names = tfidf_vectorizer.get_feature_names_out()\n",
    "\n",
    "# group similar words\n",
    "lemmatizer = WordNetLemmatizer()\n",
    "data['J BBQ - 3.6 Stars'] = data['J BBQ - 3.6 Stars'].apply(lambda x: \" \".join([lemmatizer.lemmatize(w) for w in nltk.word_tokenize(str(x))]))\n",
    "\n",
    "# print(data['Hanu Korean BBQ - 4.8 Stars'])\n",
    "\n",
    "sia = SentimentIntensityAnalyzer()\n",
    "data['Sentiment'] = data['J BBQ - 3.6 Stars'].apply(lambda x: sia.polarity_scores(x)['compound'])\n",
    "\n",
    "# print(data[['Hanu Korean BBQ - 4.8 Stars', 'Sentiment']])\n",
    "\n",
    "print (data['Sentiment'].mean())"
   ]
  },
  {
   "cell_type": "markdown",
   "metadata": {
    "id": "YRxe1ANvhsSD"
   },
   "source": [
    "7. Castle BBQ - 3.5 stars"
   ]
  },
  {
   "cell_type": "code",
   "execution_count": null,
   "metadata": {
    "id": "fPmiSsDlhv8E"
   },
   "outputs": [],
   "source": [
    "# set column\n",
    "data = df[['Castle BBQ - 3.5 Stars']]\n",
    "\n",
    "data = df.dropna()\n",
    "data = df.reset_index(drop=True)\n",
    "\n",
    "# clean data\n",
    "data['Castle BBQ - 3.5 Stars'] = data['Castle BBQ - 3.5 Stars'].apply(lambda x: ' '.join(x.lower() for x in str(x).split()))\n",
    "\n",
    "# contractions\n",
    "def expand_contractions(s):\n",
    "    s = re.sub(r\"won’t\", \"will not\", s)\n",
    "    s = re.sub(r\"wouldn’t\", \"would not\", s)\n",
    "    s = re.sub(r\"couldn’t\", \"could not\", s)\n",
    "    s = re.sub(r\"can’t\", \"can not\", s)\n",
    "    s = re.sub(r\"n’t\", \" not\", s)\n",
    "    return s\n",
    "\n",
    "# expand\n",
    "data['Castle BBQ - 3.5 Stars']=data['Castle BBQ - 3.5 Stars'].apply(lambda x:expand_contractions(x))\n",
    "\n",
    "# remove non alphabetical characters\n",
    "data['Castle BBQ - 3.5 Stars'] = data['Castle BBQ - 3.5 Stars'].apply(lambda x: \" \".join([re.sub('[^A-Za-z]+', '', x) for x in nltk.word_tokenize(x)]))\n",
    "\n",
    "# remove stop words\n",
    "tfidf_vectorizer = TfidfVectorizer(stop_words='english')\n",
    "tfidf_matrix = tfidf_vectorizer.fit_transform(data['Castle BBQ - 3.5 Stars'])\n",
    "feature_names = tfidf_vectorizer.get_feature_names_out()\n",
    "\n",
    "# group similar words\n",
    "lemmatizer = WordNetLemmatizer()\n",
    "data['Castle BBQ - 3.5 Stars'] = data['Castle BBQ - 3.5 Stars'].apply(lambda x: \" \".join([lemmatizer.lemmatize(w) for w in nltk.word_tokenize(str(x))]))\n",
    "\n",
    "# print(data['Hanu Korean BBQ - 4.8 Stars'])\n",
    "\n",
    "sia = SentimentIntensityAnalyzer()\n",
    "data['Sentiment'] = data['Castle BBQ - 3.5 Stars'].apply(lambda x: sia.polarity_scores(x)['compound'])\n",
    "\n",
    "# print(data[['Hanu Korean BBQ - 4.8 Stars', 'Sentiment']])\n",
    "\n",
    "print (data['Sentiment'].mean())"
   ]
  },
  {
   "cell_type": "markdown",
   "metadata": {
    "id": "EgYLFUeGhxnH"
   },
   "source": [
    "8. Moodaepo - 3.3 stars"
   ]
  },
  {
   "cell_type": "code",
   "execution_count": null,
   "metadata": {
    "id": "EUO1MH4Zh0sZ"
   },
   "outputs": [],
   "source": [
    "# set column\n",
    "data = df[['Moodaepo - 3.3 Stars']]\n",
    "\n",
    "data = df.dropna()\n",
    "data = df.reset_index(drop=True)\n",
    "\n",
    "# clean data\n",
    "data['Moodaepo - 3.3 Stars'] = data['Moodaepo - 3.3 Stars'].apply(lambda x: ' '.join(x.lower() for x in str(x).split()))\n",
    "\n",
    "# contractions\n",
    "def expand_contractions(s):\n",
    "    s = re.sub(r\"won’t\", \"will not\", s)\n",
    "    s = re.sub(r\"wouldn’t\", \"would not\", s)\n",
    "    s = re.sub(r\"couldn’t\", \"could not\", s)\n",
    "    s = re.sub(r\"can’t\", \"can not\", s)\n",
    "    s = re.sub(r\"n’t\", \" not\", s)\n",
    "    return s\n",
    "\n",
    "# expand\n",
    "data['Moodaepo - 3.3 Stars']=data['Moodaepo - 3.3 Stars'].apply(lambda x:expand_contractions(x))\n",
    "\n",
    "# remove non alphabetical characters\n",
    "data['Moodaepo - 3.3 Stars'] = data['Moodaepo - 3.3 Stars'].apply(lambda x: \" \".join([re.sub('[^A-Za-z]+', '', x) for x in nltk.word_tokenize(x)]))\n",
    "\n",
    "# remove stop words\n",
    "tfidf_vectorizer = TfidfVectorizer(stop_words='english')\n",
    "tfidf_matrix = tfidf_vectorizer.fit_transform(data['Moodaepo - 3.3 Stars'])\n",
    "feature_names = tfidf_vectorizer.get_feature_names_out()\n",
    "\n",
    "# group similar words\n",
    "lemmatizer = WordNetLemmatizer()\n",
    "data['Moodaepo - 3.3 Stars'] = data['Moodaepo - 3.3 Stars'].apply(lambda x: \" \".join([lemmatizer.lemmatize(w) for w in nltk.word_tokenize(str(x))]))\n",
    "\n",
    "# print(data['Hanu Korean BBQ - 4.8 Stars'])\n",
    "\n",
    "sia = SentimentIntensityAnalyzer()\n",
    "data['Sentiment'] = data['Moodaepo - 3.3 Stars'].apply(lambda x: sia.polarity_scores(x)['compound'])\n",
    "\n",
    "# print(data[['Hanu Korean BBQ - 4.8 Stars', 'Sentiment']])\n",
    "\n",
    "print (data['Sentiment'].mean())"
   ]
  },
  {
   "cell_type": "markdown",
   "metadata": {
    "id": "tjioXkNnh2n3"
   },
   "source": [
    "9. Bud Namu Korean BBQ - 3.3 stars"
   ]
  },
  {
   "cell_type": "code",
   "execution_count": null,
   "metadata": {
    "id": "HU78MVZ5h6Eu"
   },
   "outputs": [],
   "source": [
    "# set column\n",
    "data = df[['Bud Namu Korean BBQ - 3.3 Stars']]\n",
    "\n",
    "data = df.dropna()\n",
    "data = df.reset_index(drop=True)\n",
    "\n",
    "# clean data\n",
    "data['Bud Namu Korean BBQ - 3.3 Stars'] = data['Bud Namu Korean BBQ - 3.3 Stars'].apply(lambda x: ' '.join(x.lower() for x in str(x).split()))\n",
    "\n",
    "# contractions\n",
    "def expand_contractions(s):\n",
    "    s = re.sub(r\"won’t\", \"will not\", s)\n",
    "    s = re.sub(r\"wouldn’t\", \"would not\", s)\n",
    "    s = re.sub(r\"couldn’t\", \"could not\", s)\n",
    "    s = re.sub(r\"can’t\", \"can not\", s)\n",
    "    s = re.sub(r\"n’t\", \" not\", s)\n",
    "    return s\n",
    "\n",
    "# expand\n",
    "data['Bud Namu Korean BBQ - 3.3 Stars']=data['Bud Namu Korean BBQ - 3.3 Stars'].apply(lambda x:expand_contractions(x))\n",
    "\n",
    "# remove non alphabetical characters\n",
    "data['Bud Namu Korean BBQ - 3.3 Stars'] = data['Bud Namu Korean BBQ - 3.3 Stars'].apply(lambda x: \" \".join([re.sub('[^A-Za-z]+', '', x) for x in nltk.word_tokenize(x)]))\n",
    "\n",
    "# remove stop words\n",
    "tfidf_vectorizer = TfidfVectorizer(stop_words='english')\n",
    "tfidf_matrix = tfidf_vectorizer.fit_transform(data['Bud Namu Korean BBQ - 3.3 Stars'])\n",
    "feature_names = tfidf_vectorizer.get_feature_names_out()\n",
    "\n",
    "# group similar words\n",
    "lemmatizer = WordNetLemmatizer()\n",
    "data['Bud Namu Korean BBQ - 3.3 Stars'] = data['Bud Namu Korean BBQ - 3.3 Stars'].apply(lambda x: \" \".join([lemmatizer.lemmatize(w) for w in nltk.word_tokenize(str(x))]))\n",
    "\n",
    "# print(data['Hanu Korean BBQ - 4.8 Stars'])\n",
    "\n",
    "sia = SentimentIntensityAnalyzer()\n",
    "data['Sentiment'] = data['Bud Namu Korean BBQ - 3.3 Stars'].apply(lambda x: sia.polarity_scores(x)['compound'])\n",
    "\n",
    "# print(data[['Hanu Korean BBQ - 4.8 Stars', 'Sentiment']])\n",
    "\n",
    "print (data['Sentiment'].mean())"
   ]
  },
  {
   "cell_type": "markdown",
   "metadata": {
    "id": "aA6TZ2lqh6uq"
   },
   "source": [
    "10. MOON BBQ 2 - 3.0 stars"
   ]
  },
  {
   "cell_type": "code",
   "execution_count": null,
   "metadata": {
    "id": "wtGHyw0Ah9SE"
   },
   "outputs": [],
   "source": [
    "# set column\n",
    "data = df[['MOON BBQ 2 - 3.0 Stars']]\n",
    "\n",
    "data = df.dropna()\n",
    "data = df.reset_index(drop=True)\n",
    "\n",
    "# clean data\n",
    "data['MOON BBQ 2 - 3.0 Stars'] = data['MOON BBQ 2 - 3.0 Stars'].apply(lambda x: ' '.join(x.lower() for x in str(x).split()))\n",
    "\n",
    "# contractions\n",
    "def expand_contractions(s):\n",
    "    s = re.sub(r\"won’t\", \"will not\", s)\n",
    "    s = re.sub(r\"wouldn’t\", \"would not\", s)\n",
    "    s = re.sub(r\"couldn’t\", \"could not\", s)\n",
    "    s = re.sub(r\"can’t\", \"can not\", s)\n",
    "    s = re.sub(r\"n’t\", \" not\", s)\n",
    "    return s\n",
    "\n",
    "# expand\n",
    "data['MOON BBQ 2 - 3.0 Stars']=data['MOON BBQ 2 - 3.0 Stars'].apply(lambda x:expand_contractions(x))\n",
    "\n",
    "# remove non alphabetical characters\n",
    "data['MOON BBQ 2 - 3.0 Stars'] = data['MOON BBQ 2 - 3.0 Stars'].apply(lambda x: \" \".join([re.sub('[^A-Za-z]+', '', x) for x in nltk.word_tokenize(x)]))\n",
    "\n",
    "# remove stop words\n",
    "tfidf_vectorizer = TfidfVectorizer(stop_words='english')\n",
    "tfidf_matrix = tfidf_vectorizer.fit_transform(data['MOON BBQ 2 - 3.0 Stars'])\n",
    "feature_names = tfidf_vectorizer.get_feature_names_out()\n",
    "\n",
    "# group similar words\n",
    "lemmatizer = WordNetLemmatizer()\n",
    "data['MOON BBQ 2 - 3.0 Stars'] = data['MOON BBQ 2 - 3.0 Stars'].apply(lambda x: \" \".join([lemmatizer.lemmatize(w) for w in nltk.word_tokenize(str(x))]))\n",
    "\n",
    "# print(data['Hanu Korean BBQ - 4.8 Stars'])\n",
    "\n",
    "sia = SentimentIntensityAnalyzer()\n",
    "data['Sentiment'] = data['MOON BBQ 2 - 3.0 Stars'].apply(lambda x: sia.polarity_scores(x)['compound'])\n",
    "\n",
    "# print(data[['Hanu Korean BBQ - 4.8 Stars', 'Sentiment']])\n",
    "\n",
    "print (data['Sentiment'].mean())"
   ]
  },
  {
   "cell_type": "markdown",
   "metadata": {
    "id": "UVplUfSgh_Fj"
   },
   "source": [
    "A sentiment score closer to 1 represents a more positive sentiment, 0 being more neutral, and -1 being a negative sentiment. In our case, all restaurants had a score above 0.5, showing a relatively positive sentiment from the reveiwers. Sentiment scores from the higher rated group was higher than that of the lower rated group, which was expected, with the highest and lowest from the higher rated group being 0.7684 and 0.911 respectively, while the lowest and highest in the lower rated group was 0.5709 and 0.8133."
   ]
  }
 ],
 "metadata": {
  "colab": {
   "provenance": []
  },
  "kernelspec": {
   "display_name": "Python 3 (ipykernel)",
   "language": "python",
   "name": "python3"
  },
  "language_info": {
   "codemirror_mode": {
    "name": "ipython",
    "version": 3
   },
   "file_extension": ".py",
   "mimetype": "text/x-python",
   "name": "python",
   "nbconvert_exporter": "python",
   "pygments_lexer": "ipython3",
   "version": "3.11.5"
  }
 },
 "nbformat": 4,
 "nbformat_minor": 1
}
